{
  "cells": [
    {
      "cell_type": "markdown",
      "metadata": {
        "id": "5lDgseojkLrD"
      },
      "source": [
        "# Video #1"
      ]
    },
    {
      "cell_type": "markdown",
      "metadata": {
        "id": "kXsH_rkwkmqs"
      },
      "source": [
        "# Introduction\n",
        "**Recap from MLT**\n",
        "* Logistic regression is the **workhorse** of machine learning.\n",
        "* Before deep learning era, logistic regression was **the default choice** for solving real life classification problems with hundreds of thousands of features.\n",
        "* It works in binary, multi-class and multi-label classification set ups."
      ]
    },
    {
      "cell_type": "markdown",
      "metadata": {
        "id": "NBy_wPye2Uk8"
      },
      "source": [
        "#Imports\n",
        "In this notebook we solve the same problem of recognizing Handwritten digits using Logistic regression model.  "
      ]
    },
    {
      "cell_type": "code",
      "execution_count": null,
      "metadata": {
        "id": "kpJip143bTRJ"
      },
      "outputs": [],
      "source": [
        "# Common imports\n",
        "import numpy as np\n",
        "from pprint import pprint\n",
        "from tempfile import mkdtemp\n",
        "from shutil import rmtree\n",
        "\n",
        "# to make this notebook's output stable across runs\n",
        "np.random.seed(42)\n",
        "\n",
        "#sklearn specific imports\n",
        "# Dataset fetching\n",
        "\n",
        "\n",
        "# Feature scaling\n",
        "from sklearn.preprocessing import MinMaxScaler\n",
        "\n",
        "# Pipeline utility\n",
        "from sklearn.pipeline import make_pipeline\n",
        "\n",
        "# Classifiers: dummy, logistic regression (SGD and LogisticRegression)\n",
        "# and least square classification\n",
        "from sklearn.dummy import DummyClassifier\n",
        "from sklearn.linear_model import SGDClassifier,RidgeClassifier, LogisticRegression,LogisticRegressionCV,RidgeClassifierCV\n",
        "\n",
        "# Model selection\n",
        "from sklearn.model_selection import cross_validate,RandomizedSearchCV,GridSearchCV,cross_val_predict\n",
        "from sklearn.model_selection import learning_curve\n",
        "\n",
        "# Evaluation metrics\n",
        "from sklearn.metrics import log_loss\n",
        "from sklearn.metrics import ConfusionMatrixDisplay\n",
        "from sklearn.metrics import precision_score, recall_score, classification_report\n",
        "from sklearn.metrics import precision_recall_curve\n",
        "from sklearn.metrics import auc,roc_curve,roc_auc_score\n",
        "\n",
        "# scipy\n",
        "from scipy.stats import loguniform\n",
        "\n",
        "# To plot pretty figures\n",
        "%matplotlib inline\n",
        "from  matplotlib import pyplot as plt\n",
        "import seaborn as sns\n",
        "\n",
        "# global settings\n",
        "#mpl.rc('axes', labelsize=14)\n",
        "#mpl.rc('xtick', labelsize=12)\n",
        "#mpl.rc('ytick', labelsize=12)\n",
        "#mpl.rc('figure',figsize=(8,6))"
      ]
    },
    {
      "cell_type": "code",
      "execution_count": null,
      "metadata": {
        "id": "Cxae2lHHJ2AD"
      },
      "outputs": [],
      "source": [
        "# Ignore all warnings (convergence..) by sklearn\n",
        "def warn(*args, **kwargs):\n",
        "    pass\n",
        "import warnings\n",
        "warnings.warn = warn"
      ]
    },
    {
      "cell_type": "markdown",
      "metadata": {
        "id": "zvJv6XMDkgC3"
      },
      "source": [
        "# Note on the classification steps\n",
        "\n",
        "Each classifier implemented for addressing this problem has the following steps:\n",
        "\n",
        "* Preprocessing\n",
        "* Classification\n",
        "* Train with cross validation\n",
        "* [Optional] Hyper-parameter tuning\n",
        "* Performance evaluation"
      ]
    },
    {
      "cell_type": "markdown",
      "metadata": {
        "id": "6eU7kzTFAV8p"
      },
      "source": [
        "#Handwritten Digit Classification\n",
        "\n",
        "   * We are going to repeat the digit recognition task with the following classifiers\n",
        "    1. SGD classifier.\n",
        "    2. Logistic Regression.\n",
        "    3. Ridge Classifier.\n",
        "\n",
        "* We make use of same **MNIST** dataset.\n",
        "\n"
      ]
    },
    {
      "cell_type": "code",
      "execution_count": null,
      "metadata": {
        "id": "8o7gNFoXtGhD"
      },
      "outputs": [],
      "source": [
        "from sklearn.datasets import fetch_openml\n",
        "\n",
        "X_pd,y_pd= fetch_openml('mnist_784',version=1,return_X_y=True)\n",
        "\n",
        "# convert to numpy array\n",
        "X = X_pd.to_numpy()\n",
        "y = y_pd.to_numpy()"
      ]
    },
    {
      "cell_type": "markdown",
      "metadata": {
        "id": "VytgFiXEtUQd"
      },
      "source": [
        "Split the dataset into training and testing set."
      ]
    },
    {
      "cell_type": "code",
      "execution_count": null,
      "metadata": {
        "id": "CesQQWnSjSRK"
      },
      "outputs": [],
      "source": [
        "x_train,x_test,y_train,y_test = X[:60000], X[60000:], y[:60000], y[60000:]"
      ]
    },
    {
      "cell_type": "markdown",
      "metadata": {
        "id": "R7f6E8CE0VW8"
      },
      "source": [
        "## Pre-Processing\n",
        "* **Unlike** perceptron, where scaling the range is optional (but recommended), sigmoid requires scaling the feature range between 0 to 1.\n",
        "* Contemplate the consequences if we don't apply the scaling operation on the input datapoints.\n",
        "\n",
        "* Note: **Do not** apply mean centering as it removes zeros from the data, however, zeros should be zeros in the dataset\n",
        "\n",
        "* Since we already visualized the samples in the dataset and know sufficient details, we are going to use `pipeline `to make the code compact."
      ]
    },
    {
      "cell_type": "markdown",
      "metadata": {
        "id": "-a3G7kdIdlbn"
      },
      "source": [
        "#Binary Classification : 0-Detector"
      ]
    },
    {
      "cell_type": "markdown",
      "metadata": {
        "id": "BJhGvI3fV4_y"
      },
      "source": [
        "* Let us start with a simple classification problem, that is, **binary classification**.\n",
        "* Since the original label vector contains 10 classes, we need to modfiy the number of classes to 2. Therefore,  **the label '0' will be changed to '1' and all other labels (1-9) will be changed to '0'**.<br>\n",
        "  **(Important: for perceptron we set the negative labels to -1)**"
      ]
    },
    {
      "cell_type": "code",
      "execution_count": null,
      "metadata": {
        "id": "Qhs2a3IHzbGt"
      },
      "outputs": [],
      "source": [
        "# intialize new variable names with all -1\n",
        "y_train_0 = np.zeros((len(y_train)))\n",
        "y_test_0 = np.zeros((len(y_test)))\n",
        "\n",
        "# find indices of digit 0 image\n",
        "indx_0 = np.where(y_train =='0') # remember original labels are of type str not int\n",
        "# use those indices to modify y_train_0&y_test_0\n",
        "y_train_0[indx_0] = 1\n",
        "indx_0 = np.where(y_test == '0')\n",
        "y_test_0[indx_0] = 1"
      ]
    },
    {
      "cell_type": "markdown",
      "metadata": {
        "id": "wyCCbcDzLe4I"
      },
      "source": [
        "**Sanity check⚛** <br>\n",
        "* Let's display the elements of `y_train` and `y_train_0` to verify whether the labels are properly modified."
      ]
    },
    {
      "cell_type": "code",
      "execution_count": null,
      "metadata": {
        "id": "JFWU_sdLSDJH",
        "colab": {
          "base_uri": "https://localhost:8080/",
          "height": 373
        },
        "outputId": "2a7740ab-0894-4b47-9689-d4680a479d91"
      },
      "outputs": [
        {
          "output_type": "display_data",
          "data": {
            "text/plain": [
              "<Figure size 576x432 with 9 Axes>"
            ],
            "image/png": "[encoded data removed]"
          },
          "metadata": {
            "needs_background": "light"
          }
        }
      ],
      "source": [
        "num_images = 9 # Choose a square number\n",
        "factor = np.int(np.sqrt(num_images))\n",
        "fig,ax = plt.subplots(nrows=factor,ncols=factor,figsize=(8,6))\n",
        "idx_offset = 0 # take \"num_images\" starting from the index \"idx_offset\"\n",
        "for i in range(factor):\n",
        "  index = idx_offset+i*(factor)\n",
        "  for j in range(factor):\n",
        "    ax[i,j].imshow(X[index+j].reshape(28,28),cmap='gray')\n",
        "    ax[i,j].set_title('Label:{0}'.format(str(y_train_0[index+j])))\n",
        "    ax[i,j].set_axis_off()"
      ]
    },
    {
      "cell_type": "markdown",
      "metadata": {
        "id": "cMIons1_TWup"
      },
      "source": [
        "## Basline Models\n",
        "  * We already know that the basline model would produce an accuracy of 90.12%."
      ]
    },
    {
      "cell_type": "code",
      "execution_count": null,
      "metadata": {
        "id": "SfzAmCDvZOl1",
        "colab": {
          "base_uri": "https://localhost:8080/"
        },
        "outputId": "c73341c8-5328-4bb6-e552-3ad9f4c03cf1"
      },
      "outputs": [
        {
          "output_type": "stream",
          "name": "stdout",
          "text": [
            "0.9012833333333333\n"
          ]
        }
      ],
      "source": [
        "base_clf = DummyClassifier(strategy='most_frequent')\n",
        "base_clf.fit(x_train,y_train_0)\n",
        "print(base_clf.score(x_train,y_train_0))"
      ]
    },
    {
      "cell_type": "markdown",
      "metadata": {
        "id": "9U9OMAyktiXD"
      },
      "source": [
        "## SGD Classifier\n",
        "\n",
        " Before using LogisticRegression for Binary classification problem, it will be helpful to recall important concepts and equations covered in the technique course."
      ]
    },
    {
      "cell_type": "markdown",
      "metadata": {
        "id": "v7Mb615SyK67"
      },
      "source": [
        "### Recap\n",
        "Let us quickly recap various components in the general settings:\n",
        "1.  **Training data**: (features, label) or $(\\mathbf{X}, y)$, where label $y$ is a **discrete** quantity from a finite set. **Features** in this case are pixel values of an image.\n",
        "2. **Model :**\n",
        " \\begin{eqnarray}\n",
        "z &=& {w_0} {x_0} + {w_1} x_1 + {w_2} x_2 + \\ldots + {w_m} x_m \\\\\n",
        "&=& \\mathbf{w}^T\\mathbf{x}\n",
        "\\end{eqnarray}\n",
        "and passing it through the sigmoid non-linear function (or Logistic function)\n",
        "$$ \\sigma(z) = \\dfrac{1}{1+e^{-z}} =\\dfrac{1}{1+exp(-z)} $$\n",
        "3.**Loss function:** We use Binary cross entropy loss.\n",
        "$$ J(\\mathbf{w}) = -\\dfrac{1}{n}\\sum\\left[y^{(i)} \\log(h_{\\mathbf{w}}(\\mathbf{x}^{(i)}))+ (1-y^{(i)})(1- \\log(h_{\\mathbf{w}}(\\mathbf{x}^{(i)})))\\right]$$\n",
        "4.**Optimization:** <br>\n",
        "  Gradient Descent"
      ]
    },
    {
      "cell_type": "markdown",
      "metadata": {
        "id": "sHGUMrKGhAMl"
      },
      "source": [
        "* Let's look into the paramters of the `SGDClassifier()` estimator implemented in sklearn: <br>\n",
        "`class sklearn.linear_model.SGDClassifier(loss='hinge', *, penalty='l2', alpha=0.0001, l1_ratio=0.15, fit_intercept=True, max_iter=1000, tol=0.001, shuffle=True, verbose=0, epsilon=0.1, n_jobs=None, random_state=None, learning_rate='optimal', eta0=0.0, power_t=0.5, early_stopping=False, validation_fraction=0.1, n_iter_no_change=5, class_weight=None, warm_start=False, average=False) `.\n",
        "\n",
        "  * Setting the loss parameter to `'loss=log'` makes it a **logistic regression classifier**.  We may refer to documentation for more details on the `SGDClassifier` class.\n",
        "\n",
        "\n"
      ]
    },
    {
      "cell_type": "markdown",
      "metadata": {
        "id": "Zuxj4TeNHNop"
      },
      "source": [
        "### Training without regularization"
      ]
    },
    {
      "cell_type": "markdown",
      "metadata": {
        "id": "hcmVO-yWBuP6"
      },
      "source": [
        "* Let's instatiate an object of SGDClassifier.\n",
        "* Since we want to plot learning curve of training, we set `max_iter = 1` and `warm_start=True`.\n",
        "* In addition, we are using constant learning rate throughout the training.  For that we set `learning_rate='constant'` and set the learning rate through `eta0=0.01`.\n",
        "* Since we are not using regularization, we set `alpha=0`."
      ]
    },
    {
      "cell_type": "code",
      "execution_count": null,
      "metadata": {
        "id": "QJR4IlYAZyEC"
      },
      "outputs": [],
      "source": [
        "estimator = SGDClassifier(loss='log',\n",
        "                        penalty='l2',\n",
        "                        max_iter=1,\n",
        "                        warm_start=True,\n",
        "                        eta0=0.01,\n",
        "                        alpha=0,\n",
        "                        learning_rate='constant',\n",
        "                        random_state=1729)\n",
        "pipe_sgd= make_pipeline(MinMaxScaler(), estimator)"
      ]
    },
    {
      "cell_type": "markdown",
      "metadata": {
        "id": "GdkurCBFKj8-"
      },
      "source": [
        "* Let us call `fit` method of `SGDClassifier()` in iterative manner to plot the iteration vs loss curve."
      ]
    },
    {
      "cell_type": "code",
      "execution_count": null,
      "metadata": {
        "id": "l-VmmguDF2NK"
      },
      "outputs": [],
      "source": [
        "Loss=[]\n",
        "iterations= 100\n",
        "for i in range(iterations):\n",
        "  pipe_sgd.fit(x_train,y_train_0)\n",
        "  y_pred = pipe_sgd.predict_proba(x_train)\n",
        "  Loss.append(log_loss(y_train_0,y_pred))"
      ]
    },
    {
      "cell_type": "markdown",
      "metadata": {
        "id": "yDGvBcd7CoP8"
      },
      "source": [
        "Let's plot the learning curve.\n",
        "\n",
        "* We have iterator number on the x-axis and loss on the y-axis."
      ]
    },
    {
      "cell_type": "code",
      "execution_count": null,
      "metadata": {
        "id": "YpJ3E9zzPU_l",
        "colab": {
          "base_uri": "https://localhost:8080/",
          "height": 279
        },
        "outputId": "a50f8bc6-fce9-4b8c-f984-690c8e010c98"
      },
      "outputs": [
        {
          "output_type": "display_data",
          "data": {
            "text/plain": [
              "<Figure size 432x288 with 1 Axes>"
            ],
            "image/png": "[encoded data removed]"
          },
          "metadata": {
            "needs_background": "light"
          }
        }
      ],
      "source": [
        "plt.figure()\n",
        "plt.plot(np.arange(iterations),Loss)\n",
        "plt.grid(True)\n",
        "plt.xlabel('Iteration')\n",
        "plt.ylabel('Loss')\n",
        "plt.show()"
      ]
    },
    {
      "cell_type": "markdown",
      "metadata": {
        "id": "q8hPngrQd1Nw"
      },
      "source": [
        "Observe that the loss is reducing for each iteration .  \n",
        "> It signals us the model is getting trained as per the expectation."
      ]
    },
    {
      "cell_type": "markdown",
      "metadata": {
        "id": "LJsTECTWNtn8"
      },
      "source": [
        "Now that the model is trained, let's us calculate the training and test accuracy of the model."
      ]
    },
    {
      "cell_type": "code",
      "execution_count": null,
      "metadata": {
        "id": "DvM274K6HGHQ",
        "colab": {
          "base_uri": "https://localhost:8080/"
        },
        "outputId": "40be38e5-1ee1-41c5-ae25-5cd5bbbd02a8"
      },
      "outputs": [
        {
          "output_type": "stream",
          "name": "stdout",
          "text": [
            "Training accuracy: 0.99\n",
            "Testing accuracy: 0.99\n"
          ]
        }
      ],
      "source": [
        "print('Training accuracy: %.2f'%pipe_sgd.score(x_train,y_train_0))\n",
        "print('Testing accuracy: %.2f'%pipe_sgd.score(x_test,y_test_0))"
      ]
    },
    {
      "cell_type": "markdown",
      "metadata": {
        "id": "OKIvP1M-5e-q"
      },
      "source": [
        "* We know that accuracy alone is not a good metric for binary classification.\n",
        "* Let's compute Precision, recall and f1-score for the model."
      ]
    },
    {
      "cell_type": "code",
      "execution_count": null,
      "metadata": {
        "id": "ycvgnEPf5inR",
        "colab": {
          "base_uri": "https://localhost:8080/",
          "height": 279
        },
        "outputId": "47ddb09d-0211-4b99-e977-a7519d16270c"
      },
      "outputs": [
        {
          "output_type": "display_data",
          "data": {
            "text/plain": [
              "<Figure size 432x288 with 2 Axes>"
            ],
            "image/png": "[encoded data removed]"
          },
          "metadata": {
            "needs_background": "light"
          }
        }
      ],
      "source": [
        "y_hat_train_0 = pipe_sgd.predict(x_train)\n",
        "cm_display = ConfusionMatrixDisplay.from_predictions(y_train_0,y_hat_train_0,values_format='.5g') # it return matplotlin plot object\n",
        "plt.show()"
      ]
    },
    {
      "cell_type": "markdown",
      "metadata": {
        "id": "zNFMeCTmDBIZ"
      },
      "source": [
        "Observe that the off-diagonal elements are not zero, which indicates that a few examples are misclassified."
      ]
    },
    {
      "cell_type": "code",
      "execution_count": null,
      "metadata": {
        "id": "ozhatT06B4ID",
        "colab": {
          "base_uri": "https://localhost:8080/"
        },
        "outputId": "68d8e0ec-5eb5-4e80-da63-ac9cc35d7a37"
      },
      "outputs": [
        {
          "output_type": "stream",
          "name": "stdout",
          "text": [
            "              precision    recall  f1-score   support\n",
            "\n",
            "         0.0      0.996     0.998     0.997     54077\n",
            "         1.0      0.977     0.961     0.969      5923\n",
            "\n",
            "    accuracy                          0.994     60000\n",
            "   macro avg      0.987     0.979     0.983     60000\n",
            "weighted avg      0.994     0.994     0.994     60000\n",
            "\n"
          ]
        }
      ],
      "source": [
        "print(classification_report(y_train_0, y_hat_train_0, digits=3))"
      ]
    },
    {
      "cell_type": "markdown",
      "metadata": {
        "id": "JG7ccmqibLbz"
      },
      "source": [
        "Let's generate classification report on test set."
      ]
    },
    {
      "cell_type": "code",
      "execution_count": null,
      "metadata": {
        "id": "PYS9eMnkhp7S",
        "colab": {
          "base_uri": "https://localhost:8080/",
          "height": 279
        },
        "outputId": "33677f58-f62e-4543-feaa-b1efab5897db"
      },
      "outputs": [
        {
          "output_type": "display_data",
          "data": {
            "text/plain": [
              "<Figure size 432x288 with 2 Axes>"
            ],
            "image/png": "[encoded data removed]"
          },
          "metadata": {
            "needs_background": "light"
          }
        }
      ],
      "source": [
        "y_hat_test_0 = pipe_sgd.predict(x_test)\n",
        "cm_display = ConfusionMatrixDisplay.from_predictions(y_test_0,y_hat_test_0,values_format='.5g') # it return matplotlin plot object\n",
        "plt.show()"
      ]
    },
    {
      "cell_type": "code",
      "execution_count": null,
      "metadata": {
        "id": "AES_RT1jh2XX",
        "colab": {
          "base_uri": "https://localhost:8080/"
        },
        "outputId": "46019133-99ae-4347-cfaf-90af83addc55"
      },
      "outputs": [
        {
          "output_type": "stream",
          "name": "stdout",
          "text": [
            "              precision    recall  f1-score   support\n",
            "\n",
            "         0.0      0.996     0.995     0.996      9020\n",
            "         1.0      0.956     0.961     0.959       980\n",
            "\n",
            "    accuracy                          0.992     10000\n",
            "   macro avg      0.976     0.978     0.977     10000\n",
            "weighted avg      0.992     0.992     0.992     10000\n",
            "\n"
          ]
        }
      ],
      "source": [
        "print(classification_report(y_test_0, y_hat_test_0, digits=3))"
      ]
    },
    {
      "cell_type": "markdown",
      "metadata": {
        "id": "Q4O7lYECOuIH"
      },
      "source": [
        "**Cross validation**"
      ]
    },
    {
      "cell_type": "code",
      "execution_count": null,
      "metadata": {
        "id": "a1OxgCAhMYCa"
      },
      "outputs": [],
      "source": [
        "estimator = SGDClassifier(loss='log',\n",
        "                        penalty='l2',\n",
        "                        max_iter=100,\n",
        "                        warm_start=False,\n",
        "                        eta0=0.01,\n",
        "                        alpha=0,\n",
        "                        learning_rate='constant',\n",
        "                        random_state=1729)\n",
        "\n",
        "# create a pipeline\n",
        "pipe_sgd_cv = make_pipeline(MinMaxScaler(),estimator)"
      ]
    },
    {
      "cell_type": "markdown",
      "metadata": {
        "id": "YdjbZHFVOcE0"
      },
      "source": [
        "Now we will train the classifier with cross validation."
      ]
    },
    {
      "cell_type": "code",
      "execution_count": null,
      "metadata": {
        "id": "mdYY_bt2iUlR",
        "colab": {
          "base_uri": "https://localhost:8080/"
        },
        "outputId": "2bb34441-ff7a-4082-eaf9-985b61fa2f9d"
      },
      "outputs": [
        {
          "output_type": "stream",
          "name": "stdout",
          "text": [
            "{'fit_time': array([1.79437709, 1.77242208, 1.77064633, 1.91397858, 1.63094497]),\n",
            " 'score_time': array([0.10029197, 0.09857559, 0.0953846 , 0.09670234, 0.09812784]),\n",
            " 'test_f1': array([0.95699831, 0.954371  , 0.9616041 , 0.95870583, 0.95993252]),\n",
            " 'test_precision': array([0.95538721, 0.96382429, 0.97238999, 0.96735395, 0.95952782]),\n",
            " 'test_recall': array([0.95861486, 0.94510135, 0.95105485, 0.95021097, 0.96033755]),\n",
            " 'train_f1': array([0.96495899, 0.96565657, 0.96453452, 0.96373944, 0.96302557]),\n",
            " 'train_precision': array([0.97419355, 0.97321046, 0.96473818, 0.97701149, 0.96404399]),\n",
            " 'train_recall': array([0.95589787, 0.95821903, 0.96433094, 0.95082313, 0.96200929])}\n"
          ]
        }
      ],
      "source": [
        "cv_bin_clf = cross_validate(pipe_sgd_cv,\n",
        "                            x_train,\n",
        "                            y_train_0,\n",
        "                            cv=5,\n",
        "                            scoring=['precision','recall','f1'],\n",
        "                            return_train_score=True,\n",
        "                           )\n",
        "pprint(cv_bin_clf)"
      ]
    },
    {
      "cell_type": "markdown",
      "metadata": {
        "id": "6FwaFiLOJvQ7"
      },
      "source": [
        "* It is good to check the weight values of all the features which will help us decide whether regularization could be of any help."
      ]
    },
    {
      "cell_type": "code",
      "execution_count": null,
      "metadata": {
        "id": "oS8aM7T90P27",
        "colab": {
          "base_uri": "https://localhost:8080/"
        },
        "outputId": "cd219d7f-42b9-43a1-c3a2-8cf7e9af297f"
      },
      "outputs": [
        {
          "output_type": "stream",
          "name": "stdout",
          "text": [
            "Dimention of Weights w: (1, 784)\n",
            "Bias :[-4.89339106]\n"
          ]
        }
      ],
      "source": [
        "# call the estimator object in the steps of pipeline\n",
        "weights = pipe_sgd[1].coef_\n",
        "bias = pipe_sgd[1].intercept_\n",
        "print('Dimention of Weights w: {0}'.format(weights.shape))\n",
        "print('Bias :{0}'.format(bias))"
      ]
    },
    {
      "cell_type": "code",
      "execution_count": null,
      "metadata": {
        "id": "F_7tJMhAFURF",
        "colab": {
          "base_uri": "https://localhost:8080/",
          "height": 279
        },
        "outputId": "efed97b2-ff05-42bc-9a19-05501fdfad6e"
      },
      "outputs": [
        {
          "output_type": "display_data",
          "data": {
            "text/plain": [
              "<Figure size 432x288 with 1 Axes>"
            ],
            "image/png": "[encoded data removed]"
          },
          "metadata": {
            "needs_background": "light"
          }
        }
      ],
      "source": [
        "plt.figure()\n",
        "plt.plot(np.arange(0,784),weights[0,:])\n",
        "plt.xlabel('Feature index')\n",
        "plt.ylabel('Weight value')\n",
        "plt.ylim((np.min(weights)-5, np.max(weights)+5))\n",
        "plt.grid()"
      ]
    },
    {
      "cell_type": "markdown",
      "metadata": {
        "id": "1Ob7aFhx-pcE"
      },
      "source": [
        "* It is interesting to observe how many weight values are exactly zero.\n",
        "\n",
        "* Those features contribute nothing in the classification."
      ]
    },
    {
      "cell_type": "code",
      "execution_count": null,
      "metadata": {
        "id": "rXraUVO892PT",
        "colab": {
          "base_uri": "https://localhost:8080/"
        },
        "outputId": "1105f5b5-befc-4e0a-c71a-da84b6b26844"
      },
      "outputs": [
        {
          "output_type": "stream",
          "name": "stdout",
          "text": [
            "Number of weights with value zero:67.000000\n"
          ]
        }
      ],
      "source": [
        "num_zero_w = weights.shape[1]-np.count_nonzero(weights)\n",
        "print('Number of weights with value zero:%f'%num_zero_w)"
      ]
    },
    {
      "cell_type": "markdown",
      "metadata": {
        "id": "kzRBmX5GYw8a"
      },
      "source": [
        "* Looking at the above plot and the performance of the model on training and test, it is obvious that the model do not require any regularization.\n"
      ]
    },
    {
      "cell_type": "markdown",
      "metadata": {
        "id": "CV8McPC4lvQR"
      },
      "source": [
        "### Training with regularization\n",
        "* However, what happens to the performance of the model if we penalize, out of temptation, the weight values even to a smaller degree.\n",
        "* Think about it."
      ]
    },
    {
      "cell_type": "markdown",
      "metadata": {
        "id": "V3y67FU1PvjY"
      },
      "source": [
        "We perform L2 regularization with a small regularization penalty $\\alpha=0.001$.\n",
        "\n",
        "> Note that, we instantiate `SGDClassifier` with the following parameters:\n",
        "* `penalty='l2'`\n",
        "* `alpha=0.001`\n",
        "\n"
      ]
    },
    {
      "cell_type": "code",
      "execution_count": null,
      "metadata": {
        "id": "7PaG4Kq9GFsJ"
      },
      "outputs": [],
      "source": [
        "# L2 regularization\n",
        "estimator = SGDClassifier(loss='log',\n",
        "                           penalty='l2',\n",
        "                           alpha=0.001,\n",
        "                           max_iter=1,\n",
        "                           eta0=0.01,\n",
        "                           warm_start=True,\n",
        "                           learning_rate='constant',\n",
        "                           random_state=1729)\n",
        "pipe_sgd_l2 = make_pipeline(MinMaxScaler(),estimator)\n",
        "Loss=[]\n",
        "iterations= 100\n",
        "for i in range(iterations):\n",
        "  pipe_sgd_l2.fit(x_train,y_train_0)\n",
        "  y_pred = pipe_sgd_l2.predict_proba(x_train)\n",
        "  Loss.append(log_loss(y_train_0,y_pred))"
      ]
    },
    {
      "cell_type": "markdown",
      "metadata": {
        "id": "fjWhh2kfQPqc"
      },
      "source": [
        "With regularization, we end up with slightly higher value of loss at the end of 100 iterations."
      ]
    },
    {
      "cell_type": "code",
      "execution_count": null,
      "metadata": {
        "id": "uxsTu97KGeQC",
        "colab": {
          "base_uri": "https://localhost:8080/"
        },
        "outputId": "01f501d9-e440-403e-b22f-bd954cbe1ca7"
      },
      "outputs": [
        {
          "output_type": "display_data",
          "data": {
            "text/plain": [
              "<Figure size 432x288 with 1 Axes>"
            ],
            "image/png": "[encoded data removed]"
          },
          "metadata": {
            "needs_background": "light"
          }
        }
      ],
      "source": [
        "plt.figure()\n",
        "plt.plot(np.arange(iterations),Loss)\n",
        "plt.grid(True)\n",
        "plt.xlabel('Iteration')\n",
        "plt.ylabel('Loss')\n",
        "plt.show()"
      ]
    },
    {
      "cell_type": "markdown",
      "metadata": {
        "id": "qVscPUnVQZV0"
      },
      "source": [
        "Check the estimated parameters of `SGDClassifier`."
      ]
    },
    {
      "cell_type": "code",
      "execution_count": null,
      "metadata": {
        "id": "HIohMJn91yzd",
        "colab": {
          "base_uri": "https://localhost:8080/"
        },
        "outputId": "e6d8031c-1491-4415-a6d5-54681c330737"
      },
      "outputs": [
        {
          "output_type": "stream",
          "name": "stdout",
          "text": [
            "[-4.43001892]\n"
          ]
        }
      ],
      "source": [
        "weights = pipe_sgd_l2[1].coef_\n",
        "bias = pipe_sgd_l2[1].intercept_\n",
        "print(bias)"
      ]
    },
    {
      "cell_type": "code",
      "execution_count": null,
      "metadata": {
        "id": "LBTS-OTUGzmd",
        "colab": {
          "base_uri": "https://localhost:8080/"
        },
        "outputId": "e739a7da-95df-4b9f-a993-c7519c3d5480"
      },
      "outputs": [
        {
          "output_type": "display_data",
          "data": {
            "text/plain": [
              "<Figure size 432x288 with 1 Axes>"
            ],
            "image/png": "[encoded data removed]"
          },
          "metadata": {
            "needs_background": "light"
          }
        }
      ],
      "source": [
        "plt.figure()\n",
        "plt.plot(np.arange(0,784),weights[0,:])\n",
        "plt.xlabel('Feature index')\n",
        "plt.ylabel('Weight value')\n",
        "plt.ylim((np.min(weights)-5, np.max(weights)+5))\n",
        "plt.grid()"
      ]
    },
    {
      "cell_type": "code",
      "execution_count": null,
      "metadata": {
        "id": "RZYNgj_eFjeH",
        "colab": {
          "base_uri": "https://localhost:8080/"
        },
        "outputId": "0e41a10e-7201-47f3-bc26-397d149ea452"
      },
      "outputs": [
        {
          "output_type": "stream",
          "name": "stdout",
          "text": [
            "Number of weights with value zero:67.000000\n"
          ]
        }
      ],
      "source": [
        "num_zero_w = weights.shape[1]-np.count_nonzero(weights)\n",
        "print('Number of weights with value zero:%f'%num_zero_w)"
      ]
    },
    {
      "cell_type": "code",
      "execution_count": null,
      "metadata": {
        "id": "Tzklz-E3HAn1",
        "colab": {
          "base_uri": "https://localhost:8080/"
        },
        "outputId": "3e8f2b04-4cb4-4223-df8c-6d26bfa5d89d"
      },
      "outputs": [
        {
          "output_type": "stream",
          "name": "stdout",
          "text": [
            "Training accuracy 0.99\n",
            "Testing accuracy 0.99\n"
          ]
        }
      ],
      "source": [
        "print('Training accuracy %.2f'%pipe_sgd_l2.score(x_train,y_train_0))\n",
        "print('Testing accuracy %.2f'%pipe_sgd_l2.score(x_test,y_test_0))"
      ]
    },
    {
      "cell_type": "code",
      "execution_count": null,
      "metadata": {
        "id": "DRDQWbBqDe8J",
        "colab": {
          "base_uri": "https://localhost:8080/"
        },
        "outputId": "27046944-2330-48da-df33-6e128aef628a"
      },
      "outputs": [
        {
          "output_type": "display_data",
          "data": {
            "text/plain": [
              "<Figure size 432x288 with 2 Axes>"
            ],
            "image/png": "[encoded data removed]"
          },
          "metadata": {
            "needs_background": "light"
          }
        }
      ],
      "source": [
        "y_hat_train_0 = pipe_sgd_l2.predict(x_train)\n",
        "cm_display = ConfusionMatrixDisplay.from_predictions(y_train_0,y_hat_train_0,values_format='.5g') # it return matplotlin plot object\n",
        "plt.show()"
      ]
    },
    {
      "cell_type": "code",
      "execution_count": null,
      "metadata": {
        "id": "P5GjbmUSFfqF",
        "colab": {
          "base_uri": "https://localhost:8080/"
        },
        "outputId": "eb1983f1-0c8f-49b8-f803-ab4259dc7920"
      },
      "outputs": [
        {
          "output_type": "stream",
          "name": "stdout",
          "text": [
            "              precision    recall  f1-score   support\n",
            "\n",
            "         0.0      0.992     0.998     0.995     54077\n",
            "         1.0      0.979     0.925     0.952      5923\n",
            "\n",
            "    accuracy                          0.991     60000\n",
            "   macro avg      0.986     0.962     0.973     60000\n",
            "weighted avg      0.991     0.991     0.991     60000\n",
            "\n"
          ]
        }
      ],
      "source": [
        "print(classification_report(y_train_0,y_hat_train_0, digits=3))"
      ]
    },
    {
      "cell_type": "code",
      "execution_count": null,
      "metadata": {
        "id": "qnwMA9ISNuQE",
        "colab": {
          "base_uri": "https://localhost:8080/"
        },
        "outputId": "952d2a29-c956-43ac-d9b3-0ddd3e76164c"
      },
      "outputs": [
        {
          "output_type": "display_data",
          "data": {
            "text/plain": [
              "<Figure size 432x288 with 2 Axes>"
            ],
            "image/png": "[encoded data removed]"
          },
          "metadata": {
            "needs_background": "light"
          }
        }
      ],
      "source": [
        "y_hat_test_0 = pipe_sgd_l2.predict(x_test)\n",
        "cm_display = ConfusionMatrixDisplay.from_predictions(y_test_0,y_hat_test_0,values_format='.5g') # it return matplotlin plot object\n",
        "plt.show()"
      ]
    },
    {
      "cell_type": "code",
      "execution_count": null,
      "metadata": {
        "id": "osArOUbDPvsT",
        "colab": {
          "base_uri": "https://localhost:8080/"
        },
        "outputId": "97358918-f850-4844-8720-948e9c931f95"
      },
      "outputs": [
        {
          "output_type": "stream",
          "name": "stdout",
          "text": [
            "              precision    recall  f1-score   support\n",
            "\n",
            "         0.0       0.99      1.00      0.99      9020\n",
            "         1.0       0.96      0.94      0.95       980\n",
            "\n",
            "    accuracy                           0.99     10000\n",
            "   macro avg       0.98      0.97      0.97     10000\n",
            "weighted avg       0.99      0.99      0.99     10000\n",
            "\n"
          ]
        }
      ],
      "source": [
        "print(classification_report(y_test_0, y_hat_test_0))"
      ]
    },
    {
      "cell_type": "markdown",
      "metadata": {
        "id": "B37KBZnQJy4p"
      },
      "source": [
        "### Displaying input image and its prediction\n",
        "\n",
        ""
      ]
    },
    {
      "cell_type": "code",
      "execution_count": null,
      "metadata": {
        "id": "ZRT5suZe8L7w",
        "colab": {
          "base_uri": "https://localhost:8080/",
          "height": 281
        },
        "outputId": "87123325-4092-417a-9c71-49f452236b86"
      },
      "outputs": [
        {
          "output_type": "display_data",
          "data": {
            "text/plain": [
              "<Figure size 432x288 with 1 Axes>"
            ],
            "image/png": "[encoded data removed]"
          },
          "metadata": {
            "needs_background": "light"
          }
        }
      ],
      "source": [
        "index = 10 # try some other index\n",
        "plt.imshow(x_test[index,:].reshape(28,28),cmap='gray')\n",
        "pred = pipe_sgd.predict(x_test[index].reshape(1,-1))\n",
        "plt.title(str(pred))\n",
        "plt.show()"
      ]
    },
    {
      "cell_type": "markdown",
      "metadata": {
        "id": "vtjom02bRyGx"
      },
      "source": [
        "Let's plot a few images and their respective **predictions** with SGDclassifier trained without regularization."
      ]
    },
    {
      "cell_type": "code",
      "execution_count": null,
      "metadata": {
        "id": "mbXzUZ0a3DiC",
        "colab": {
          "base_uri": "https://localhost:8080/",
          "height": 373
        },
        "outputId": "ae919195-f84d-4ee4-ae56-6cc81062c854"
      },
      "outputs": [
        {
          "output_type": "display_data",
          "data": {
            "text/plain": [
              "<Figure size 576x432 with 9 Axes>"
            ],
            "image/png": "[encoded data removed]"
          },
          "metadata": {
            "needs_background": "light"
          }
        }
      ],
      "source": [
        "y_hat_test_0 = pipe_sgd.predict(x_test)\n",
        "num_images = 9 # Choose a square number\n",
        "factor = np.int(np.sqrt(num_images))\n",
        "fig,ax = plt.subplots(nrows=factor,ncols=factor,figsize=(8,6))\n",
        "idx_offset = 0 # display \"num_images\" starting from idx_offset\n",
        "for i in range(factor):\n",
        "  index = idx_offset+i*(factor)\n",
        "  for j in range(factor):\n",
        "    ax[i,j].imshow(x_test[index+j].reshape(28,28),cmap='gray') # we should not use x_train_with_dummy\n",
        "    ax[i,j].set_title('Prediction:{0}'.format(str(y_hat_test_0[index+j])))\n",
        "    ax[i,j].set_axis_off()"
      ]
    },
    {
      "cell_type": "code",
      "execution_count": null,
      "metadata": {
        "id": "TrEXHnt3SivE"
      },
      "outputs": [],
      "source": [
        "indx_0 = np.where(y_test_0 == 1)"
      ]
    },
    {
      "cell_type": "code",
      "execution_count": null,
      "metadata": {
        "id": "efLJGS5FVTPd",
        "colab": {
          "base_uri": "https://localhost:8080/",
          "height": 373
        },
        "outputId": "7e65dca4-b216-4749-e39e-d4139e156ef6"
      },
      "outputs": [
        {
          "output_type": "display_data",
          "data": {
            "text/plain": [
              "<Figure size 576x432 with 9 Axes>"
            ],
            "image/png": "[encoded data removed]"
          },
          "metadata": {
            "needs_background": "light"
          }
        }
      ],
      "source": [
        "zeroImgs = x_test[indx_0[0]]\n",
        "zeroLabls = y_hat_test_0[indx_0[0]]\n",
        "num_images = 9 # Choose a square number\n",
        "factor = np.int(np.sqrt(num_images))\n",
        "fig,ax = plt.subplots(nrows=factor,ncols=factor,figsize=(8,6))\n",
        "idx_offset = 0 # display \"num_images\" starting from idx_offset\n",
        "for i in range(factor):\n",
        "  index = idx_offset+i*(factor)\n",
        "  for j in range(factor):\n",
        "    ax[i,j].imshow(zeroImgs[index+j].reshape(28,28),cmap='gray')\n",
        "    ax[i,j].set_title('Prediction:{0}'.format(str(zeroLabls[index+j])))\n",
        "    ax[i,j].set_axis_off()"
      ]
    },
    {
      "cell_type": "markdown",
      "metadata": {
        "id": "KK55gjgyW2uD"
      },
      "source": [
        "### Hyper-parameter tuning\n",
        "\n",
        "* The learning rate and regularization rate are two important hyper-parameters of sgdclassifier.\n",
        "\n",
        "* Let's use `RandomizedSearchCV()` and draw the value from the log-uniform distribution to find a better combination of `eta and alpha`\n",
        "\n"
      ]
    },
    {
      "cell_type": "code",
      "execution_count": null,
      "metadata": {
        "id": "tIYrvXlecM44"
      },
      "outputs": [],
      "source": [
        "eta_grid = loguniform(1e-3,1e-1)\n",
        "alpha_grid = loguniform(1e-7,1e-1)"
      ]
    },
    {
      "cell_type": "markdown",
      "metadata": {
        "id": "htFVkJ1Fe9jI"
      },
      "source": [
        " * Note that, `eta_grid & alpha_grid` are objects that contain a method called `rvs()` which can be called to get random values of given size.\n",
        "\n",
        " * Therefore, we pass this `eta_grid & alpha_grid`  objects to `RandomizedSearchCV()`. Internally, it makes use of this `rvs()` method of these objects for sampling."
      ]
    },
    {
      "cell_type": "code",
      "execution_count": null,
      "metadata": {
        "id": "cwNqd3VMfixK",
        "colab": {
          "base_uri": "https://localhost:8080/"
        },
        "outputId": "c967296e-aaf4-45ba-d184-b81e3b254d38"
      },
      "outputs": [
        {
          "output_type": "stream",
          "name": "stdout",
          "text": [
            "[0.00561152 0.07969455 0.02910636 0.01575132 0.00205134 0.00205111\n",
            " 0.00130667 0.05399484 0.01593052 0.02607025]\n"
          ]
        }
      ],
      "source": [
        "print(eta_grid.rvs(10, random_state=42))"
      ]
    },
    {
      "cell_type": "code",
      "execution_count": null,
      "metadata": {
        "id": "D7K18LUSoNmJ"
      },
      "outputs": [],
      "source": [
        "estimator= SGDClassifier(loss='log',\n",
        "                        penalty='l2',\n",
        "                        max_iter=100,\n",
        "                        warm_start=False,\n",
        "                        learning_rate='constant',\n",
        "                        eta0=0.01,\n",
        "                        alpha=0,\n",
        "                        random_state=1729)\n",
        "\n",
        "pipe_sgd_hpt = make_pipeline(MinMaxScaler(),estimator)"
      ]
    },
    {
      "cell_type": "code",
      "execution_count": null,
      "metadata": {
        "id": "iARm1LA-5e5B",
        "colab": {
          "base_uri": "https://localhost:8080/"
        },
        "outputId": "093b4d82-c8f6-47b4-cecb-4c9d1902656c"
      },
      "outputs": [
        {
          "output_type": "stream",
          "name": "stdout",
          "text": [
            "Pipeline(steps=[('minmaxscaler', MinMaxScaler()),\n",
            "                ('sgdclassifier',\n",
            "                 SGDClassifier(alpha=0, eta0=0.01, learning_rate='constant',\n",
            "                               loss='log', max_iter=100, random_state=1729))])\n"
          ]
        }
      ],
      "source": [
        "print(pipe_sgd_hpt)"
      ]
    },
    {
      "cell_type": "code",
      "execution_count": null,
      "metadata": {
        "id": "NsYh6POLW7_V"
      },
      "outputs": [],
      "source": [
        "scores = RandomizedSearchCV(pipe_sgd_hpt,\n",
        "                            param_distributions={\n",
        "                                'sgdclassifier__eta0':eta_grid,\n",
        "                                'sgdclassifier__alpha':alpha_grid\n",
        "                            },\n",
        "                            cv=5,\n",
        "                            scoring='precision',\n",
        "                            n_iter=10,\n",
        "                            refit=True,\n",
        "                            random_state=1729)"
      ]
    },
    {
      "cell_type": "code",
      "execution_count": null,
      "metadata": {
        "id": "jSWHeN2Yica1",
        "colab": {
          "base_uri": "https://localhost:8080/"
        },
        "outputId": "742b0b1f-2cfd-4507-fbb0-9add94a9b210"
      },
      "outputs": [
        {
          "output_type": "execute_result",
          "data": {
            "text/plain": [
              "RandomizedSearchCV(cv=5,\n",
              "                   estimator=Pipeline(steps=[('minmaxscaler', MinMaxScaler()),\n",
              "                                             ('sgdclassifier',\n",
              "                                              SGDClassifier(alpha=0, eta0=0.01,\n",
              "                                                            learning_rate='constant',\n",
              "                                                            loss='log',\n",
              "                                                            max_iter=100,\n",
              "                                                            random_state=1729))]),\n",
              "                   param_distributions={'sgdclassifier__alpha': <scipy.stats._distn_infrastructure.rv_frozen object at 0x7f42aa7582d0>,\n",
              "                                        'sgdclassifier__eta0': <scipy.stats._distn_infrastructure.rv_frozen object at 0x7f42aa758390>},\n",
              "                   random_state=1729, scoring='precision')"
            ]
          },
          "metadata": {},
          "execution_count": 52
        }
      ],
      "source": [
        "# It take quite a long time to finish\n",
        "scores.fit(x_train,y_train_0)"
      ]
    },
    {
      "cell_type": "code",
      "execution_count": null,
      "metadata": {
        "id": "VFVl3Z2zYMVT",
        "colab": {
          "base_uri": "https://localhost:8080/"
        },
        "outputId": "99666f65-faba-4a34-947c-458601f1d942"
      },
      "outputs": [
        {
          "output_type": "stream",
          "name": "stdout",
          "text": [
            "{'mean_fit_time': array([1.96540928, 1.81037693, 1.50731463, 2.15991111, 1.50867071,\n",
            "       1.874863  , 3.24784093, 1.78068213, 1.49748988, 1.54817467]),\n",
            " 'mean_score_time': array([0.08189373, 0.07856412, 0.0790905 , 0.08079286, 0.08103914,\n",
            "       0.07829304, 0.10782962, 0.07986932, 0.07793794, 0.07985353]),\n",
            " 'mean_test_score': array([0.96460118, 0.96414504, 0.96737133, 0.96151669, 0.9884984 ,\n",
            "       0.96578734, 0.96148015, 0.96354983, 0.98956494, 0.96552555]),\n",
            " 'param_sgdclassifier__alpha': masked_array(data=[1.8747854362378862e-06, 3.476412314661177e-05,\n",
            "                   0.0014239854561506498, 5.312503633759702e-06,\n",
            "                   0.05828730756092898, 2.521634683952945e-07,\n",
            "                   0.00011448262369494136, 1.1186816059037773e-05,\n",
            "                   0.058121543505891174, 0.003268914620727034],\n",
            "             mask=[False, False, False, False, False, False, False, False,\n",
            "                   False, False],\n",
            "       fill_value='?',\n",
            "            dtype=object),\n",
            " 'param_sgdclassifier__eta0': masked_array(data=[0.003296374007983358, 0.027499324609444625,\n",
            "                   0.028598919963253415, 0.0032223051129088532,\n",
            "                   0.01350246989137488, 0.029294210769839908,\n",
            "                   0.0028519847491974234, 0.010567843053166642,\n",
            "                   0.01690864669305596, 0.0632108450174182],\n",
            "             mask=[False, False, False, False, False, False, False, False,\n",
            "                   False, False],\n",
            "       fill_value='?',\n",
            "            dtype=object),\n",
            " 'params': [{'sgdclassifier__alpha': 1.8747854362378862e-06,\n",
            "             'sgdclassifier__eta0': 0.003296374007983358},\n",
            "            {'sgdclassifier__alpha': 3.476412314661177e-05,\n",
            "             'sgdclassifier__eta0': 0.027499324609444625},\n",
            "            {'sgdclassifier__alpha': 0.0014239854561506498,\n",
            "             'sgdclassifier__eta0': 0.028598919963253415},\n",
            "            {'sgdclassifier__alpha': 5.312503633759702e-06,\n",
            "             'sgdclassifier__eta0': 0.0032223051129088532},\n",
            "            {'sgdclassifier__alpha': 0.05828730756092898,\n",
            "             'sgdclassifier__eta0': 0.01350246989137488},\n",
            "            {'sgdclassifier__alpha': 2.521634683952945e-07,\n",
            "             'sgdclassifier__eta0': 0.029294210769839908},\n",
            "            {'sgdclassifier__alpha': 0.00011448262369494136,\n",
            "             'sgdclassifier__eta0': 0.0028519847491974234},\n",
            "            {'sgdclassifier__alpha': 1.1186816059037773e-05,\n",
            "             'sgdclassifier__eta0': 0.010567843053166642},\n",
            "            {'sgdclassifier__alpha': 0.058121543505891174,\n",
            "             'sgdclassifier__eta0': 0.01690864669305596},\n",
            "            {'sgdclassifier__alpha': 0.003268914620727034,\n",
            "             'sgdclassifier__eta0': 0.0632108450174182}],\n",
            " 'rank_test_score': array([ 6,  7,  3,  9,  2,  4, 10,  8,  1,  5], dtype=int32),\n",
            " 'split0_test_score': array([0.96539792, 0.95710681, 0.96241259, 0.96539792, 0.98170732,\n",
            "       0.95633921, 0.9670425 , 0.95546218, 0.97973658, 0.95151515]),\n",
            " 'split1_test_score': array([0.95581988, 0.96602787, 0.96406661, 0.95581988, 0.98910675,\n",
            "       0.96666667, 0.9533503 , 0.96465517, 0.99123768, 0.95837104]),\n",
            " 'split2_test_score': array([0.98066784, 0.97377622, 0.98829883, 0.97311362, 0.98903509,\n",
            "       0.97040905, 0.97224631, 0.97155172, 0.99      , 0.98330241]),\n",
            " 'split3_test_score': array([0.96016949, 0.97535211, 0.96406661, 0.95230126, 0.98957126,\n",
            "       0.97447183, 0.95305951, 0.96732588, 0.99275362, 0.96848934]),\n",
            " 'split4_test_score': array([0.96095076, 0.94846218, 0.958012  , 0.96095076, 0.99307159,\n",
            "       0.96104996, 0.96170213, 0.95875421, 0.99409681, 0.96594982]),\n",
            " 'std_fit_time': array([0.05521586, 0.10824414, 0.01222387, 0.21403134, 0.00704906,\n",
            "       0.0574906 , 0.75510451, 0.08834986, 0.01191019, 0.11159707]),\n",
            " 'std_score_time': array([0.00385798, 0.00075476, 0.00139175, 0.00632494, 0.00456877,\n",
            "       0.00091973, 0.02149253, 0.00260296, 0.0008497 , 0.0026628 ]),\n",
            " 'std_test_score': array([0.00858893, 0.01017243, 0.01069569, 0.00731096, 0.00371058,\n",
            "       0.00646937, 0.00753526, 0.00579515, 0.0051047 , 0.01070009])}\n"
          ]
        }
      ],
      "source": [
        "pprint(scores.cv_results_)"
      ]
    },
    {
      "cell_type": "markdown",
      "metadata": {
        "id": "BcM1arS4aAW8"
      },
      "source": [
        "* Let us pick the best  estimator from the results"
      ]
    },
    {
      "cell_type": "code",
      "execution_count": null,
      "metadata": {
        "id": "k8nHi_BxSl8j",
        "colab": {
          "base_uri": "https://localhost:8080/"
        },
        "outputId": "74053079-5395-4258-cb85-f40a80f5aac9"
      },
      "outputs": [
        {
          "output_type": "stream",
          "name": "stdout",
          "text": [
            "Best combination:(alpha:0.05812154,eta:0.01691)\n"
          ]
        }
      ],
      "source": [
        "print('Best combination:(alpha:{0:.8f},eta:{1:.5f})'.format(scores.best_params_['sgdclassifier__alpha'],scores.best_params_['sgdclassifier__eta0']))"
      ]
    },
    {
      "cell_type": "code",
      "execution_count": null,
      "metadata": {
        "id": "k5Y7db9FaB8r"
      },
      "outputs": [],
      "source": [
        "best_sgd_clf = scores.best_estimator_\n",
        "y_hat_train_best_0 = best_sgd_clf.predict(x_train)"
      ]
    },
    {
      "cell_type": "code",
      "execution_count": null,
      "metadata": {
        "id": "-XGtopDONukW",
        "colab": {
          "base_uri": "https://localhost:8080/",
          "height": 279
        },
        "outputId": "517549aa-6d68-4ff7-da21-089c7fa154ca"
      },
      "outputs": [
        {
          "output_type": "display_data",
          "data": {
            "text/plain": [
              "<Figure size 432x288 with 2 Axes>"
            ],
            "image/png": "[encoded data removed]"
          },
          "metadata": {
            "needs_background": "light"
          }
        }
      ],
      "source": [
        "cm_display = ConfusionMatrixDisplay.from_predictions(y_train_0,y_hat_train_best_0,values_format='.5g') # it return matplotlin plot object\n",
        "plt.show()"
      ]
    },
    {
      "cell_type": "code",
      "execution_count": null,
      "metadata": {
        "id": "NIMpvHkQOORL",
        "colab": {
          "base_uri": "https://localhost:8080/",
          "height": 279
        },
        "outputId": "0dbc1c6a-e42d-4780-b436-ea328d956d34"
      },
      "outputs": [
        {
          "output_type": "display_data",
          "data": {
            "text/plain": [
              "<Figure size 432x288 with 2 Axes>"
            ],
            "image/png": "[encoded data removed]"
          },
          "metadata": {
            "needs_background": "light"
          }
        }
      ],
      "source": [
        "y_hat_test_best_0 = best_sgd_clf.predict(x_test)\n",
        "cm_display = ConfusionMatrixDisplay.from_predictions(y_test_0,y_hat_test_best_0,values_format='.5g') # it return matplotlin plot object\n",
        "plt.show()"
      ]
    },
    {
      "cell_type": "code",
      "execution_count": null,
      "metadata": {
        "id": "6SN4WvCkOFIJ",
        "colab": {
          "base_uri": "https://localhost:8080/"
        },
        "outputId": "094251d9-115a-4d3c-f3f2-d2c4c0ef86f5"
      },
      "outputs": [
        {
          "output_type": "stream",
          "name": "stdout",
          "text": [
            "              precision    recall  f1-score   support\n",
            "\n",
            "         0.0       0.98      1.00      0.99     54077\n",
            "         1.0       0.98      0.79      0.88      5923\n",
            "\n",
            "    accuracy                           0.98     60000\n",
            "   macro avg       0.98      0.90      0.93     60000\n",
            "weighted avg       0.98      0.98      0.98     60000\n",
            "\n"
          ]
        }
      ],
      "source": [
        "print(classification_report(y_train_0,y_hat_train_best_0))"
      ]
    },
    {
      "cell_type": "code",
      "execution_count": null,
      "metadata": {
        "id": "Wc9WhD7YXtup",
        "colab": {
          "base_uri": "https://localhost:8080/"
        },
        "outputId": "86464492-8696-4ee1-ff57-3942e620ccb0"
      },
      "outputs": [
        {
          "output_type": "stream",
          "name": "stdout",
          "text": [
            "              precision    recall  f1-score   support\n",
            "\n",
            "         0.0       0.98      1.00      0.99      9020\n",
            "         1.0       0.97      0.79      0.87       980\n",
            "\n",
            "    accuracy                           0.98     10000\n",
            "   macro avg       0.98      0.90      0.93     10000\n",
            "weighted avg       0.98      0.98      0.98     10000\n",
            "\n"
          ]
        }
      ],
      "source": [
        "print(classification_report(y_test_0,y_hat_test_best_0))"
      ]
    },
    {
      "cell_type": "markdown",
      "metadata": {
        "id": "omK7kJfHR6OE"
      },
      "source": [
        "**Question:** Why are the evaluation metric not better than `SGDClassifier` with manual parameter setting?\n",
        "> We need to allow the hyper-parameter tuning process to run long enough.  Try the procedure with more iterations - that will allow it to explore more in the parameter space and get us the best hyperparameters.\n"
      ]
    },
    {
      "cell_type": "markdown",
      "metadata": {
        "id": "lD3kk7Pbj3Nb"
      },
      "source": [
        "### Learning Curve\n",
        "\n",
        ""
      ]
    },
    {
      "cell_type": "code",
      "execution_count": null,
      "metadata": {
        "id": "19K98gXuj6aF"
      },
      "outputs": [],
      "source": [
        "from sklearn.model_selection import ShuffleSplit\n",
        "\n",
        "cv = ShuffleSplit(n_splits=5,test_size=0.2)\n",
        "train_sizes, train_scores, test_scores= learning_curve(\n",
        "        pipe_sgd,\n",
        "        x_train,\n",
        "        y_train_0,\n",
        "        cv=cv,\n",
        "        scoring='precision',\n",
        "        train_sizes=np.linspace(0.1,1,10)\n",
        "    )"
      ]
    },
    {
      "cell_type": "markdown",
      "metadata": {
        "id": "mQzTVzl0CwTg"
      },
      "source": [
        "  * The following cell computes the mean and standard deviation for each fold.\n",
        "  * This will help us visualize the variations of the score for each fold."
      ]
    },
    {
      "cell_type": "code",
      "execution_count": null,
      "metadata": {
        "id": "-tAyvhyFqGr7"
      },
      "outputs": [],
      "source": [
        "train_scores_mean = np.mean(train_scores,axis=1)\n",
        "test_scores_mean = np.mean(test_scores,axis=1)\n",
        "train_scores_std = np.std(train_scores,axis=1)\n",
        "test_scores_std = np.std(test_scores,axis=1)"
      ]
    },
    {
      "cell_type": "markdown",
      "metadata": {
        "id": "4sjp9qYNDiPm"
      },
      "source": [
        "Plot the learning curve to understand the effect of number of training samples on the metrics like precision.  "
      ]
    },
    {
      "cell_type": "code",
      "execution_count": null,
      "metadata": {
        "id": "93VCYfnT1RlB",
        "colab": {
          "base_uri": "https://localhost:8080/",
          "height": 283
        },
        "outputId": "b5f285fe-a22b-4f3c-856d-e6d4b361d4c0"
      },
      "outputs": [
        {
          "output_type": "display_data",
          "data": {
            "text/plain": [
              "<Figure size 720x288 with 1 Axes>"
            ],
            "image/png": "[encoded data removed]"
          },
          "metadata": {
            "needs_background": "light"
          }
        }
      ],
      "source": [
        "plt.figure(figsize=(10,4))\n",
        "\n",
        "#plot training curve\n",
        "plt.plot(train_sizes,train_scores_mean,label='train')\n",
        "upper_bounds = train_scores_mean+train_scores_std\n",
        "lower_bounds = train_scores_mean-train_scores_std\n",
        "plt.fill_between(train_sizes,upper_bounds,lower_bounds,alpha=0.1,label='train')\n",
        "\n",
        "#plot testing curve\n",
        "plt.plot(train_sizes,test_scores_mean,label='test')\n",
        "upper_bounds = test_scores_mean+test_scores_std\n",
        "lower_bounds = test_scores_mean-test_scores_std\n",
        "plt.fill_between(train_sizes,upper_bounds,lower_bounds,color='r',alpha=0.1,hatch='.',label='test')\n",
        "# common controls\n",
        "plt.xticks(ticks=train_sizes,labels=np.round(train_sizes/1000,2))\n",
        "plt.xlim((0,60000))\n",
        "plt.ylim((0.9,1))\n",
        "plt.grid(True)\n",
        "plt.xlabel('Training samples(K)')\n",
        "plt.ylabel('Precision')\n",
        "plt.legend()\n",
        "plt.show()"
      ]
    },
    {
      "cell_type": "markdown",
      "metadata": {
        "id": "DUvolVyjAhHd"
      },
      "source": [
        "### Classification Report\n",
        "**Precision/Recall Tradeoff**\n"
      ]
    },
    {
      "cell_type": "code",
      "execution_count": null,
      "metadata": {
        "id": "us6jMhFMDf14",
        "colab": {
          "base_uri": "https://localhost:8080/"
        },
        "outputId": "31e76bce-a0eb-4550-9d55-410a38203412"
      },
      "outputs": [
        {
          "output_type": "display_data",
          "data": {
            "text/plain": [
              "<Figure size 720x288 with 1 Axes>"
            ],
            "image/png": "[encoded data removed]"
          },
          "metadata": {
            "needs_background": "light"
          }
        }
      ],
      "source": [
        "# training set\n",
        "y_scores = best_sgd_clf.decision_function(x_train)\n",
        "precisions, recalls, thresholds = precision_recall_curve(y_train_0, y_scores)\n",
        "plt.figure(figsize=(10,4))\n",
        "plt.plot(thresholds, precisions[:-1], \"b--\", label=\"Precision\")\n",
        "plt.plot(thresholds, recalls[:-1], \"g-\", label=\"Recall\")\n",
        "plt.xlabel('Threshold')\n",
        "plt.grid(True)\n",
        "plt.legend(loc='upper right')\n",
        "plt.show()"
      ]
    },
    {
      "cell_type": "code",
      "execution_count": null,
      "metadata": {
        "id": "4tuaBasPB5bQ",
        "colab": {
          "base_uri": "https://localhost:8080/"
        },
        "outputId": "f7bbb30a-0106-4396-b85b-3f4ae11d5365"
      },
      "outputs": [
        {
          "output_type": "display_data",
          "data": {
            "text/plain": [
              "<Figure size 720x288 with 1 Axes>"
            ],
            "image/png": "[encoded data removed]"
          },
          "metadata": {
            "needs_background": "light"
          }
        }
      ],
      "source": [
        "plt.figure(figsize=(10,4))\n",
        "plt.plot(  recalls[:-1],precisions[:-1],\"b--\")\n",
        "plt.ylabel('Precision')\n",
        "plt.xlabel('Recall')\n",
        "plt.grid(True)\n",
        "plt.show()"
      ]
    },
    {
      "cell_type": "code",
      "execution_count": null,
      "metadata": {
        "id": "mwvqW726nbHn",
        "colab": {
          "base_uri": "https://localhost:8080/"
        },
        "outputId": "a1f3d925-aada-41bc-9073-ebc4dd2b7032"
      },
      "outputs": [
        {
          "output_type": "stream",
          "name": "stdout",
          "text": [
            "AUC PR:0.965547\n"
          ]
        }
      ],
      "source": [
        "print('AUC PR:%f'%auc(recalls[:-1],precisions[:-1]))"
      ]
    },
    {
      "cell_type": "code",
      "execution_count": null,
      "metadata": {
        "id": "b5kchjo_F_dQ",
        "colab": {
          "base_uri": "https://localhost:8080/"
        },
        "outputId": "4b72950e-3ab7-44f2-a50e-d3ccc993a48b"
      },
      "outputs": [
        {
          "output_type": "display_data",
          "data": {
            "text/plain": [
              "<Figure size 720x288 with 1 Axes>"
            ],
            "image/png": "[encoded data removed]"
          },
          "metadata": {
            "needs_background": "light"
          }
        }
      ],
      "source": [
        "# Roc curve\n",
        "fpr, tpr, thresholds = roc_curve(y_train_0, y_scores)\n",
        "plt.figure(figsize=(10,4))\n",
        "plt.plot(fpr, tpr, linewidth=2,label='Perceptron')\n",
        "plt.plot([0, 1], [0, 1], 'k--',label='baseEstimator')\n",
        "plt.xlabel('False Positive Rate')\n",
        "plt.ylabel('True Positive Rate')\n",
        "plt.grid(True)\n",
        "plt.legend()\n",
        "plt.show()"
      ]
    },
    {
      "cell_type": "code",
      "execution_count": null,
      "metadata": {
        "id": "7cwSKNoHbD-V",
        "colab": {
          "base_uri": "https://localhost:8080/"
        },
        "outputId": "89d9be28-2577-4d46-ddee-b1739557d085"
      },
      "outputs": [
        {
          "output_type": "stream",
          "name": "stdout",
          "text": [
            "AUC: 0.992\n"
          ]
        }
      ],
      "source": [
        "auc = roc_auc_score(y_train_0,y_scores)\n",
        "print('AUC: %.3f' % auc)"
      ]
    },
    {
      "cell_type": "markdown",
      "metadata": {
        "id": "Qj5YkN_JkIwv"
      },
      "source": [
        "# Video#2"
      ]
    },
    {
      "cell_type": "markdown",
      "metadata": {
        "id": "VSQtUlf-uAcA"
      },
      "source": [
        "## Logistic Regression\n",
        "\n",
        " * In the previous setup, we used `SGDClassifier` to train 0-detector model in an iterative manner.\n",
        "  *  We can also train such a classifier by solving a set of equations obtained by setting the derivative of loss w.r.t. weights to 0.\n",
        "\n",
        "  * These are not linear equations and therefore we need a different set of solvers.\n",
        "\n",
        " * Sklearn uses solvers like `liblinear`, `newton-cg`, `sag`, `saga` and `lbfgs` to find the optimal weights.\n",
        "\n",
        " * Regularization is applied by default.\n",
        "\n",
        " * Parameters:\n",
        "\n",
        " > `LogisticRegression(penalty='l2', *, dual=False, tol=0.0001, C=1.0, fit_intercept=True, intercept_scaling=1, class_weight=None, random_state=None, solver='lbfgs', max_iter=100, multi_class='auto', verbose=0, warm_start=False, n_jobs=None, l1_ratio=None)`\n",
        "\n",
        " * Note some of the important default parameters:\n",
        "  * Regularization: `penalty='l2'``\n",
        "  * Regularization rate: `C=1`\n",
        "  * Solver: `solver = 'lbfgs'`\n",
        "\n",
        " * Let's implement `LogisticRegression()` **without regularization** by setting the parameter $C=\\infty$. Therefore, we may expect performance close to `SGDClassifier` without regularization"
      ]
    },
    {
      "cell_type": "markdown",
      "metadata": {
        "id": "5NWu3G3kSu_q"
      },
      "source": [
        "### Training without regularization\n",
        "\n",
        "* **STEP 1**: Instantiate a pipeline object with two stages:\n",
        "  * The first stage contains `MinMaxScaler` for scaling the input.\n",
        "  * The second state contains a `LogisticRegression` classifier with the regularization rate `C=infinity`.\n",
        "\n",
        "* **STEP 2**: Train the pipeline with feature matrix `x_train` and label vector `y_train_0`."
      ]
    },
    {
      "cell_type": "code",
      "execution_count": null,
      "metadata": {
        "id": "oFWIOrVvu3zq",
        "colab": {
          "base_uri": "https://localhost:8080/"
        },
        "outputId": "cae578a9-7032-45bf-d617-167ac589cd4b"
      },
      "outputs": [
        {
          "output_type": "execute_result",
          "data": {
            "text/plain": [
              "Pipeline(steps=[('minmaxscaler', MinMaxScaler()),\n",
              "                ('logisticregression',\n",
              "                 LogisticRegression(C=inf, random_state=1729))])"
            ]
          },
          "metadata": {},
          "execution_count": 68
        }
      ],
      "source": [
        "pipe_logit = make_pipeline(MinMaxScaler(),LogisticRegression(random_state=1729,\n",
        "                                                             solver='lbfgs',\n",
        "                                                             C=np.infty))\n",
        "pipe_logit.fit(x_train, y_train_0)"
      ]
    },
    {
      "cell_type": "markdown",
      "metadata": {
        "id": "FHhbwvx7THqy"
      },
      "source": [
        "By executing this cell, we trained our `LogisticRegression` classifier, which can be used for making predictions on the new inputs."
      ]
    },
    {
      "cell_type": "markdown",
      "metadata": {
        "id": "kXK2KN31T5zu"
      },
      "source": [
        "### Hyperparameter search\n",
        "\n",
        "In this section, we will search for the best value for parameter `C` under certain `scoring` function."
      ]
    },
    {
      "cell_type": "markdown",
      "metadata": {
        "id": "SwgighLYT8gR"
      },
      "source": [
        "#### with `GridSearchCV`\n",
        "\n",
        "In the previous cell, we trained `LogisticRegression` classifier with `C=infinity`.  You may wonder if that's the best value for `C` and if it is not the best value, how do we search for it?\n",
        "\n",
        "Now we will demonstrate how to search for the best parameter value for regularization rate `C`, as an illustration, using `GridSearchCV`.  \n",
        "\n",
        "> Note that you can also use `RandomizedSearchCV` for this purpose."
      ]
    },
    {
      "cell_type": "markdown",
      "metadata": {
        "id": "eDIwaQgIUAdm"
      },
      "source": [
        "In order to use `GridSearchCV`, we first define a set of values that we want to try out for `C`.  The best value of `C` will be found from this set.\n",
        "\n",
        "We define the `pipleline` object exactly like before with one exception: we have set parameter value C to 1 in `LogisticRegression` estimator.  You can set it to any value as the best value would be searched with grid search.\n",
        "\n",
        "The additional step here is to instatiate a `GridSearchCV` object with a `pipeline` estimator, parameter grid specification and `f1` as a `scoring` function.\n",
        "\n",
        "> Note that you can use other scoring functions like `precision`, `recall`, however the value of `C` is found such that the given scoring function is optimized."
      ]
    },
    {
      "cell_type": "code",
      "execution_count": null,
      "metadata": {
        "id": "EqTOJCjlT_TD",
        "colab": {
          "base_uri": "https://localhost:8080/"
        },
        "outputId": "4242746a-bd5f-4380-adfa-55db91b659ff"
      },
      "outputs": [
        {
          "output_type": "execute_result",
          "data": {
            "text/plain": [
              "GridSearchCV(estimator=Pipeline(steps=[('scaler', MinMaxScaler()),\n",
              "                                       ('logistic',\n",
              "                                        LogisticRegression(random_state=1729))]),\n",
              "             param_grid={'logistic__C': [0, 0.0001, 0.001, 0.01, 0.1, 1.0, 10.0,\n",
              "                                         100.0]},\n",
              "             scoring='f1')"
            ]
          },
          "metadata": {},
          "execution_count": 69
        }
      ],
      "source": [
        "from sklearn.pipeline import Pipeline\n",
        "\n",
        "grid_Cs = [0, 1e-4, 1e-3, 1e-2, 1e-1, 1.0, 10.0, 100.0]\n",
        "\n",
        "scaler = MinMaxScaler()\n",
        "logreg = LogisticRegression(C=1.0, random_state=1729)\n",
        "\n",
        "pipe = Pipeline(steps=[(\"scaler\", scaler),\n",
        "                       (\"logistic\", logreg)])\n",
        "\n",
        "pipe_logit_cv = GridSearchCV(\n",
        "    pipe,\n",
        "    param_grid={\"logistic__C\": grid_Cs},\n",
        "    scoring='f1')\n",
        "pipe_logit_cv.fit(x_train, y_train_0)"
      ]
    },
    {
      "cell_type": "markdown",
      "metadata": {
        "id": "GUDZK7AnV6ck"
      },
      "source": [
        "The `GridSearchCV` finds the best value of `C` and refits the estimator by default on the entire training set.  This gives us the logistic regression classifier with best value of `C`."
      ]
    },
    {
      "cell_type": "markdown",
      "metadata": {
        "id": "ae_uggDyUSPf"
      },
      "source": [
        "We can check the value of the best parameter by accessing the `best_params_`\n",
        "member variable of the `GridSearchCV` object."
      ]
    },
    {
      "cell_type": "code",
      "execution_count": null,
      "metadata": {
        "id": "TCimWGJtURIV",
        "colab": {
          "base_uri": "https://localhost:8080/"
        },
        "outputId": "ee9cce9e-6d50-47b2-cd56-73cbf9ccd9ea"
      },
      "outputs": [
        {
          "output_type": "execute_result",
          "data": {
            "text/plain": [
              "{'logistic__C': 0.1}"
            ]
          },
          "metadata": {},
          "execution_count": 70
        }
      ],
      "source": [
        "pipe_logit_cv.best_params_"
      ]
    },
    {
      "cell_type": "markdown",
      "metadata": {
        "id": "HsAqUIl8UVSL"
      },
      "source": [
        "and the best score can be found in `best_score_` member variable and can be obtained as follows:"
      ]
    },
    {
      "cell_type": "code",
      "execution_count": null,
      "metadata": {
        "id": "LUQlAPxKURtU",
        "colab": {
          "base_uri": "https://localhost:8080/"
        },
        "outputId": "4400bcfb-7bfb-4ba9-8800-d364cc51b3d1"
      },
      "outputs": [
        {
          "output_type": "execute_result",
          "data": {
            "text/plain": [
              "0.9579654953103655"
            ]
          },
          "metadata": {},
          "execution_count": 71
        }
      ],
      "source": [
        "pipe_logit_cv.best_score_"
      ]
    },
    {
      "cell_type": "markdown",
      "metadata": {
        "id": "Vn4MQVYmWSjk"
      },
      "source": [
        "The best estimator can be accessed with `best_estimator_` member variable."
      ]
    },
    {
      "cell_type": "code",
      "execution_count": null,
      "metadata": {
        "id": "nt53jqaoZYno",
        "colab": {
          "base_uri": "https://localhost:8080/"
        },
        "outputId": "a0837210-346f-491d-dec0-fc17990b1a90"
      },
      "outputs": [
        {
          "output_type": "execute_result",
          "data": {
            "text/plain": [
              "Pipeline(steps=[('scaler', MinMaxScaler()),\n",
              "                ('logistic', LogisticRegression(C=0.1, random_state=1729))])"
            ]
          },
          "metadata": {},
          "execution_count": 72
        }
      ],
      "source": [
        "pipe_logit_cv.best_estimator_"
      ]
    },
    {
      "cell_type": "markdown",
      "metadata": {
        "id": "PejtXmCG7HM2"
      },
      "source": [
        "#### With `LogisticRegressionCV`\n",
        "\n",
        "Instead of using `GridSearchCV` for finding the best value for parameter `C`, we can use `LogisticRegressionCV` for performing the same job.\n",
        "\n",
        "* **STEP 1**: Here we make use of `LogisticRegressionCV` estimator with number of cross validation folds `cv=5` and scoring scheme `scoring='f1'` in the `pipeline` object.\n",
        "\n",
        "* **STEP 2**: In the second step, we train the pipeline object as before."
      ]
    },
    {
      "cell_type": "code",
      "execution_count": null,
      "metadata": {
        "id": "mX0tHV22wNjO",
        "colab": {
          "base_uri": "https://localhost:8080/"
        },
        "outputId": "4991ae67-4cec-4714-a39e-a2b1b826ca8b"
      },
      "outputs": [
        {
          "output_type": "execute_result",
          "data": {
            "text/plain": [
              "Pipeline(steps=[('minmaxscaler', MinMaxScaler()),\n",
              "                ('logisticregressioncv',\n",
              "                 LogisticRegressionCV(cv=5, random_state=1729, scoring='f1'))])"
            ]
          },
          "metadata": {},
          "execution_count": 73
        }
      ],
      "source": [
        "estimator = LogisticRegressionCV(cv=5, scoring='f1', random_state=1729)\n",
        "logit_cv = make_pipeline(MinMaxScaler(), estimator)\n",
        "logit_cv.fit(x_train, y_train_0)"
      ]
    },
    {
      "cell_type": "markdown",
      "metadata": {
        "id": "0dUb3SvPWwuN"
      },
      "source": [
        "By default, `LogisticRegressionCV` refits the model on the entire training set with the best parameter values obtained via cross validation."
      ]
    },
    {
      "cell_type": "markdown",
      "metadata": {
        "id": "tCiAYlq6VPUY"
      },
      "source": [
        "### Performance evaluation"
      ]
    },
    {
      "cell_type": "markdown",
      "metadata": {
        "id": "70fR8PpEaiC8"
      },
      "source": [
        "#### Precision, recall and f1-score"
      ]
    },
    {
      "cell_type": "markdown",
      "metadata": {
        "id": "Y-nOvLuMVTKi"
      },
      "source": [
        "Let's evaluate performance of these three different logistic regression classifiers for detecting digit 0 from the image.\n",
        "* Logistic regression without regularization.\n",
        "* Best logistic regression classifier found through `GridSearchCV`.\n",
        "* Best classifier found through `LogisticRegressionCV`.\n",
        "\n",
        "> Note that `GridSearchCV` and `LogisticRegressionCV` by default refit the classifier for the best hyperparameter values."
      ]
    },
    {
      "cell_type": "markdown",
      "metadata": {
        "id": "mRfA2SYWWfRQ"
      },
      "source": [
        "Let's get predicition for test set with these three classifiers:"
      ]
    },
    {
      "cell_type": "code",
      "execution_count": null,
      "metadata": {
        "id": "O7Ta9CRRWi18"
      },
      "outputs": [],
      "source": [
        "lr_y_hat_0 = pipe_logit.predict(x_test)\n",
        "lr_gs_y_hat_0 = pipe_logit_cv.best_estimator_.predict(x_test)\n",
        "lr_cv_y_hat_0 = logit_cv.predict(x_test)"
      ]
    },
    {
      "cell_type": "markdown",
      "metadata": {
        "id": "XE5v7_cOWepp"
      },
      "source": [
        "We will compare **precision**, **recall** and **F1 score** for the three classifiers."
      ]
    },
    {
      "cell_type": "code",
      "execution_count": null,
      "metadata": {
        "id": "pq-C8W3jYTEJ"
      },
      "outputs": [],
      "source": [
        "precision_lr = precision_score(y_test_0, lr_y_hat_0)\n",
        "recall_lr = recall_score(y_test_0, lr_y_hat_0)\n",
        "\n",
        "precision_lr_gs = precision_score(y_test_0, lr_gs_y_hat_0)\n",
        "recall_lr_gs = recall_score(y_test_0, lr_gs_y_hat_0)\n",
        "\n",
        "precision_lr_cv = precision_score(y_test_0, lr_cv_y_hat_0)\n",
        "recall_lr_cv = recall_score(y_test_0, lr_cv_y_hat_0)"
      ]
    },
    {
      "cell_type": "code",
      "execution_count": null,
      "metadata": {
        "id": "jyP1b5V_YszE",
        "colab": {
          "base_uri": "https://localhost:8080/"
        },
        "outputId": "4de5f660-cfad-4616-9911-55160f02a5fd"
      },
      "outputs": [
        {
          "output_type": "stream",
          "name": "stdout",
          "text": [
            "LogReg: precision=0.9515151515151515, recall=0.9612244897959183\n",
            "GridSearch: precision=0.9564336372847011, recall=0.963265306122449\n",
            "LogRegCV: precision=0.9546370967741935, recall=0.9663265306122449\n"
          ]
        }
      ],
      "source": [
        "print (f\"LogReg: precision={precision_lr}, recall={recall_lr}\")\n",
        "print (f\"GridSearch: precision={precision_lr_gs}, recall={recall_lr_gs}\")\n",
        "print (f\"LogRegCV: precision={precision_lr_cv}, recall={recall_lr_cv}\")"
      ]
    },
    {
      "cell_type": "markdown",
      "metadata": {
        "id": "GMwpzDogXCsB"
      },
      "source": [
        "Note that all three classifiers have roughly the same performance as measured with precision and recall.\n",
        "* The `LogisticRegression` classifier obtained through `GridSearchCV` has the highest precision - marginally higher than the other two classifiers.\n",
        "* The `LogisticRegression` classifier obtained through `LogisticRegressionCV` has the highest recall - marginally higher than the other two classifiers."
      ]
    },
    {
      "cell_type": "markdown",
      "metadata": {
        "id": "hOY-1WRxacNg"
      },
      "source": [
        "#### Using PR-curve\n",
        "\n"
      ]
    },
    {
      "cell_type": "code",
      "execution_count": null,
      "metadata": {
        "id": "z7MDjPdZawlF"
      },
      "outputs": [],
      "source": [
        "y_scores_lr = pipe_logit.decision_function(x_test)\n",
        "precisions_lr, recalls_lr, thresholds_lr = precision_recall_curve(\n",
        "    y_test_0, y_scores_lr)\n",
        "\n",
        "y_scores_lr_gs = pipe_logit_cv.decision_function(x_test)\n",
        "precisions_lr_gs, recalls_lr_gs, thresholds_lr_gs = precision_recall_curve(\n",
        "    y_test_0, y_scores_lr_gs)\n",
        "\n",
        "y_scores_lr_cv = logit_cv.decision_function(x_test)\n",
        "precisions_lr_cv, recalls_lr_cv, thresholds_lr_cv = precision_recall_curve(\n",
        "    y_test_0, y_scores_lr_cv)"
      ]
    },
    {
      "cell_type": "markdown",
      "metadata": {
        "id": "4KeEZ57RbkaR"
      },
      "source": [
        "We have all the quantities for plotting the PR curve.  Let's plot PR cuves for all three classifiers:"
      ]
    },
    {
      "cell_type": "code",
      "execution_count": null,
      "metadata": {
        "id": "RclX-mLibDtj",
        "colab": {
          "base_uri": "https://localhost:8080/",
          "height": 279
        },
        "outputId": "abbd9c8f-e988-42d6-c7b1-f3a97f9a6d2d"
      },
      "outputs": [
        {
          "output_type": "display_data",
          "data": {
            "text/plain": [
              "<Figure size 720x288 with 1 Axes>"
            ],
            "image/png": "[encoded data removed]"
          },
          "metadata": {
            "needs_background": "light"
          }
        }
      ],
      "source": [
        "plt.figure(figsize=(10,4))\n",
        "plt.plot(recalls_lr[:-1], precisions_lr[:-1], 'b--', label='LogReg')\n",
        "plt.plot(recalls_lr_gs[:-1], precisions_lr_gs[:-1], 'r--', label='GridSearchCV')\n",
        "plt.plot(recalls_lr_cv[:-1], precisions_lr_cv[:-1], 'g--', label='LogRegCV')\n",
        "\n",
        "plt.ylabel('Precision')\n",
        "plt.xlabel('Recall')\n",
        "plt.grid(True)\n",
        "plt.legend(loc='lower left')\n",
        "plt.show()"
      ]
    },
    {
      "cell_type": "markdown",
      "metadata": {
        "id": "IY2crEIfXgM5"
      },
      "source": [
        "Note that the PR curves for all three classifiers overlap significantly."
      ]
    },
    {
      "cell_type": "markdown",
      "metadata": {
        "id": "XvNt5JEcYj4b"
      },
      "source": [
        "Let's calculate area under the PR curve:"
      ]
    },
    {
      "cell_type": "code",
      "execution_count": null,
      "metadata": {
        "id": "CLEFEt76cJJA"
      },
      "outputs": [],
      "source": [
        "from sklearn.metrics import auc\n",
        "\n",
        "auc_lr = auc(recalls_lr[:-1], precisions_lr[:-1])\n",
        "auc_lr_gs = auc(recalls_lr_gs[:-1], precisions_lr_gs[:-1])\n",
        "auc_lr_cv = auc(recalls_lr_cv[:-1], precisions_lr_cv[:-1])"
      ]
    },
    {
      "cell_type": "code",
      "execution_count": null,
      "metadata": {
        "id": "aGODY__Vd5F5",
        "colab": {
          "base_uri": "https://localhost:8080/"
        },
        "outputId": "ff0666e2-b757-4d30-8fb6-c93f58f2f58e"
      },
      "outputs": [
        {
          "output_type": "stream",
          "name": "stdout",
          "text": [
            "AUC-PR for logistic regression: 0.9871337497759658\n",
            "AUC-PR for grid search: 0.9886520703587929\n",
            "AUC-PR for logistic regression CV: 0.9886328332116212\n"
          ]
        }
      ],
      "source": [
        "print (\"AUC-PR for logistic regression:\", auc_lr)\n",
        "print (\"AUC-PR for grid search:\", auc_lr_gs)\n",
        "print (\"AUC-PR for logistic regression CV:\", auc_lr_cv)"
      ]
    },
    {
      "cell_type": "markdown",
      "metadata": {
        "id": "KHXhLwV0XnNv"
      },
      "source": [
        "Observe that the AUC for all three classifier is roughly the same with `LogisticRegression` classifier obtained through cross validation and grid search have slightly higher AUC under PR curve."
      ]
    },
    {
      "cell_type": "markdown",
      "metadata": {
        "id": "l-PlMFI-gh2p"
      },
      "source": [
        "#### Confusion matrix\n",
        "\n",
        "We show a confusion matrix for test set with logistic regression classifier:"
      ]
    },
    {
      "cell_type": "code",
      "execution_count": null,
      "metadata": {
        "id": "m2Ewh_DlYjLF",
        "colab": {
          "base_uri": "https://localhost:8080/",
          "height": 279
        },
        "outputId": "45a85d8a-56e5-4be0-8b72-27d363c2257a"
      },
      "outputs": [
        {
          "output_type": "display_data",
          "data": {
            "text/plain": [
              "<Figure size 432x288 with 2 Axes>"
            ],
            "image/png": "[encoded data removed]"
          },
          "metadata": {
            "needs_background": "light"
          }
        }
      ],
      "source": [
        "cm_display = ConfusionMatrixDisplay.from_predictions(y_test_0,lr_y_hat_0,\n",
        "                                                     values_format='.5g')\n",
        "# it return matplotlin plot object\n",
        "plt.show()"
      ]
    },
    {
      "cell_type": "markdown",
      "metadata": {
        "id": "Cp1JnRZaYK1X"
      },
      "source": [
        "Confusion matrix for test set with logistic regression classifier obtained through **grid search**:"
      ]
    },
    {
      "cell_type": "code",
      "execution_count": null,
      "metadata": {
        "id": "zs_D_9DYhO2W",
        "colab": {
          "base_uri": "https://localhost:8080/",
          "height": 279
        },
        "outputId": "ff61bd87-f5f6-4a36-eda3-4bbb4f3ec4f2"
      },
      "outputs": [
        {
          "output_type": "display_data",
          "data": {
            "text/plain": [
              "<Figure size 432x288 with 2 Axes>"
            ],
            "image/png": "[encoded data removed]"
          },
          "metadata": {
            "needs_background": "light"
          }
        }
      ],
      "source": [
        "cm_display = ConfusionMatrixDisplay.from_predictions(y_test_0,lr_gs_y_hat_0,\n",
        "                                                     values_format='.5g')\n",
        "# it return matplotlin plot object\n",
        "plt.show()"
      ]
    },
    {
      "cell_type": "markdown",
      "metadata": {
        "id": "YUPXKm4XhdsF"
      },
      "source": [
        "Confusion matrix for test set with logistic regression classifier obtained through **cross validation**:"
      ]
    },
    {
      "cell_type": "code",
      "execution_count": null,
      "metadata": {
        "id": "jPP28A-thUGT",
        "colab": {
          "base_uri": "https://localhost:8080/",
          "height": 279
        },
        "outputId": "86fee197-9ba9-441e-9e74-76509a762251"
      },
      "outputs": [
        {
          "output_type": "display_data",
          "data": {
            "text/plain": [
              "<Figure size 432x288 with 2 Axes>"
            ],
            "image/png": "[encoded data removed]"
          },
          "metadata": {
            "needs_background": "light"
          }
        }
      ],
      "source": [
        "cm_display = ConfusionMatrixDisplay.from_predictions(y_test_0,lr_cv_y_hat_0,\n",
        "                                                     values_format='.5g')\n",
        "# it return matplotlin plot object\n",
        "plt.show()"
      ]
    },
    {
      "cell_type": "markdown",
      "metadata": {
        "id": "BuMrlujmhoRd"
      },
      "source": [
        "**Exercise**: Plot ROC curve for all three classifiers and calculate area under ROC curve."
      ]
    },
    {
      "cell_type": "markdown",
      "metadata": {
        "id": "i3UhnAqqjw_s"
      },
      "source": [
        "# Video #3"
      ]
    },
    {
      "cell_type": "markdown",
      "metadata": {
        "id": "bNEucCjWYvGr"
      },
      "source": [
        "## Ridge Classifier\n",
        "\n",
        " * Ridge classifier cast the problem as least-square classification and finds the optimal weight using some matrix decomposition technique such as SVD.\n",
        "\n",
        " * To train the ridge classifier, the labels should be $y \\in \\{+1,-1\\}$.\n",
        "\n",
        " * The classifier also by default implements L2 regularization.  However, we first implement it without regularization by setting `alpha=0`"
      ]
    },
    {
      "cell_type": "code",
      "execution_count": null,
      "metadata": {
        "id": "Ryz8dLvJePGi"
      },
      "outputs": [],
      "source": [
        "# intialize new variable names with all -1\n",
        "y_train_0 = -1*np.ones((len(y_train)))\n",
        "y_test_0 = -1*np.ones((len(y_test)))\n",
        "\n",
        "# find indices of digit 0 image\n",
        "indx_0 = np.where(y_train =='0')\n",
        "\n",
        "# use those indices to modify y_train_0&y_test_0\n",
        "y_train_0[indx_0] = 1\n",
        "indx_0 = np.where(y_test == '0')\n",
        "y_test_0[indx_0] = 1"
      ]
    },
    {
      "cell_type": "markdown",
      "metadata": {
        "id": "1Nw9d8SFgE6w"
      },
      "source": [
        "* First take a look into the parameters of the class <br>\n",
        "> `RidgeClassifier(alpha=1.0, *, fit_intercept=True, normalize='deprecated', copy_X=True, max_iter=None, tol=0.001, class_weight=None, solver='auto', positive=False, random_state=None)`\n",
        "\n",
        "* Note the parameter `\"normalize\"` is depreceated."
      ]
    },
    {
      "cell_type": "code",
      "execution_count": null,
      "metadata": {
        "id": "JAtJOcU8fY-c",
        "colab": {
          "base_uri": "https://localhost:8080/"
        },
        "outputId": "53e48eda-426e-4230-99ae-693cd7ca078a"
      },
      "outputs": [
        {
          "output_type": "execute_result",
          "data": {
            "text/plain": [
              "Pipeline(steps=[('minmaxscaler', MinMaxScaler()),\n",
              "                ('ridgeclassifier', RidgeClassifier(alpha=0, normalize=False))])"
            ]
          },
          "metadata": {},
          "execution_count": 85
        }
      ],
      "source": [
        "estimator = RidgeClassifier(normalize=False,alpha=0)\n",
        "pipe_ridge = make_pipeline(MinMaxScaler(),estimator)\n",
        "pipe_ridge.fit(x_train,y_train_0)"
      ]
    },
    {
      "cell_type": "markdown",
      "metadata": {
        "id": "k2X-Fmung8j_"
      },
      "source": [
        "Performance"
      ]
    },
    {
      "cell_type": "code",
      "execution_count": null,
      "metadata": {
        "id": "H1yHNPVGhM5O"
      },
      "outputs": [],
      "source": [
        "y_hat_test_0 = pipe_ridge.predict(x_test)\n",
        "print(classification_report(y_test_0,y_hat_test_0))"
      ]
    },
    {
      "cell_type": "markdown",
      "metadata": {
        "id": "HqAA4CWhMuBR"
      },
      "source": [
        "**Cross Validation**"
      ]
    },
    {
      "cell_type": "code",
      "execution_count": null,
      "metadata": {
        "id": "ROazFnjyilZi"
      },
      "outputs": [],
      "source": [
        "cv_bin_ridge_clf = cross_validate(\n",
        "                      pipe_ridge, x_train, y_train_0, cv=5,\n",
        "                      scoring=['precision', 'recall', 'f1'],\n",
        "                      return_train_score=True,\n",
        "                      return_estimator=True)\n",
        "pprint(cv_bin_ridge_clf)"
      ]
    },
    {
      "cell_type": "code",
      "execution_count": null,
      "metadata": {
        "id": "q2aZJ23Dkm70"
      },
      "outputs": [],
      "source": [
        "best_estimator_id = np.argmax(cv_bin_ridge_clf['train_f1']); best_estimator_id"
      ]
    },
    {
      "cell_type": "code",
      "execution_count": null,
      "metadata": {
        "id": "gCn7_0rAlFbW"
      },
      "outputs": [],
      "source": [
        "best_estimator = cv_bin_ridge_clf['estimator'][best_estimator_id]"
      ]
    },
    {
      "cell_type": "markdown",
      "metadata": {
        "id": "bdatgbQHl1KG"
      },
      "source": [
        "Let's evaluate the performance of the best classifier on the test set:"
      ]
    },
    {
      "cell_type": "code",
      "execution_count": null,
      "metadata": {
        "id": "CpMiHAAvlvWA"
      },
      "outputs": [],
      "source": [
        "y_hat_test_0 = best_estimator.predict(x_test)\n",
        "print(classification_report(y_test_0,y_hat_test_0))"
      ]
    },
    {
      "cell_type": "markdown",
      "metadata": {
        "id": "9-b3aT5JRfjU"
      },
      "source": [
        "## Further exploration\n",
        "Let's see what these classifiers leant about the digit 0"
      ]
    },
    {
      "cell_type": "code",
      "execution_count": null,
      "metadata": {
        "id": "gfLbdtqIdw84"
      },
      "outputs": [],
      "source": [
        "models = (pipe_sgd, pipe_sgd_l2, pipe_logit, pipe_ridge)\n",
        "titles = ('sgd', 'regularized sgd', 'logit', 'ridge')\n",
        "plt.figure(figsize=(4, 4))\n",
        "plt.subplots(2, 2)\n",
        "for i in range(0, 4):\n",
        "  w = models[i][1].coef_\n",
        "  w_matrix = w.reshape(28, 28)\n",
        "  w_matrix[w_matrix < 0]=0 #just set the value less than zero to zero\n",
        "  plt.subplot(2, 2, i+1)\n",
        "  plt.imshow(w_matrix, cmap='gray')\n",
        "  plt.title(titles[i])\n",
        "  plt.axis('off')\n",
        "  plt.grid(False)\n",
        "fig.show()"
      ]
    },
    {
      "cell_type": "markdown",
      "metadata": {
        "id": "gP6aEbrn3hV2"
      },
      "source": [
        "# Video 4"
      ]
    },
    {
      "cell_type": "markdown",
      "metadata": {
        "id": "5d5h28TFcvJk"
      },
      "source": [
        "# Multiclass Classifier (OneVsAll)\n"
      ]
    },
    {
      "cell_type": "markdown",
      "metadata": {
        "id": "gRJMJV7Mrpz_"
      },
      "source": [
        "## Multiclass Logit with SGD"
      ]
    },
    {
      "cell_type": "code",
      "execution_count": null,
      "metadata": {
        "id": "W8UX5TuZeKrc"
      },
      "outputs": [],
      "source": [
        "estimator = SGDClassifier(loss='log',\n",
        "                        penalty='l2',\n",
        "                        max_iter=1,\n",
        "                        warm_start=True,\n",
        "                        eta0=0.01,\n",
        "                        alpha=0,\n",
        "                        learning_rate='constant',\n",
        "                        random_state=1729)\n",
        "pipe_sgd_ovr= make_pipeline(MinMaxScaler(),estimator)"
      ]
    },
    {
      "cell_type": "markdown",
      "metadata": {
        "id": "Z_zEH8Kcq8VH"
      },
      "source": [
        "It almost took 5 minutes for training."
      ]
    },
    {
      "cell_type": "code",
      "execution_count": null,
      "metadata": {
        "id": "v--hcJevY4aZ"
      },
      "outputs": [],
      "source": [
        "Loss=[]\n",
        "iterations= 100\n",
        "for i in range(iterations):\n",
        "  pipe_sgd_ovr.fit(x_train,y_train)\n",
        "  y_pred = pipe_sgd_ovr.predict_proba(x_train)\n",
        "  Loss.append(log_loss(y_train,y_pred))"
      ]
    },
    {
      "cell_type": "code",
      "execution_count": null,
      "metadata": {
        "id": "C4jwurGBeLow"
      },
      "outputs": [],
      "source": [
        "plt.figure()\n",
        "plt.plot(np.arange(iterations),Loss)\n",
        "plt.grid(True)\n",
        "plt.xlabel('Iteration')\n",
        "plt.ylabel('Loss')\n",
        "plt.show()"
      ]
    },
    {
      "cell_type": "markdown",
      "metadata": {
        "id": "9twrbK8DLBK9"
      },
      "source": [
        "What actually happened behind the screen is that the library automatically created 10 binary classifiers and trained them!. During the inference time, the input will be passed through all the 10 classifiers and the highest score among the ouputs will be considered as the predicted class.To see it in action, let us execute the following lines of code"
      ]
    },
    {
      "cell_type": "code",
      "execution_count": null,
      "metadata": {
        "id": "LD9OlY13erTa"
      },
      "outputs": [],
      "source": [
        "pipe_sgd_ovr[1]"
      ]
    },
    {
      "cell_type": "code",
      "execution_count": null,
      "metadata": {
        "id": "u9_-YdFArMKw"
      },
      "outputs": [],
      "source": [
        "pipe_sgd_ovr[1].coef_.shape"
      ]
    },
    {
      "cell_type": "markdown",
      "metadata": {
        "id": "d8nlV_UHc2wX"
      },
      "source": [
        "So it is a matrix of size $10 \\times 784$. A row represents the weights of a single binary classifier."
      ]
    },
    {
      "cell_type": "code",
      "execution_count": null,
      "metadata": {
        "id": "81wrltTGeW85"
      },
      "outputs": [],
      "source": [
        "y_hat = pipe_sgd_ovr.predict(x_test); y_hat[:5]"
      ]
    },
    {
      "cell_type": "code",
      "execution_count": null,
      "metadata": {
        "id": "T0tqLKd-kEzj"
      },
      "outputs": [],
      "source": [
        "cm_display = ConfusionMatrixDisplay.from_predictions(y_test, y_hat,\n",
        "                                                     values_format='.5g')\n",
        "plt.show()"
      ]
    },
    {
      "cell_type": "code",
      "execution_count": null,
      "metadata": {
        "id": "Aqq1OamZqlOL"
      },
      "outputs": [],
      "source": [
        "print(classification_report(y_test, y_hat))"
      ]
    },
    {
      "cell_type": "markdown",
      "metadata": {
        "id": "oK1LHCHkreeH"
      },
      "source": [
        "## Multi-class LogisticRegression using solvers"
      ]
    },
    {
      "cell_type": "code",
      "execution_count": null,
      "metadata": {
        "id": "VHGc1mhfrIf_"
      },
      "outputs": [],
      "source": [
        "pipe_logit_ovr = make_pipeline(MinMaxScaler(),\n",
        "                               LogisticRegression(random_state=1729,\n",
        "                                                  solver='lbfgs',\n",
        "                                                  C=np.infty))\n",
        "pipe_logit_ovr.fit(x_train,y_train)"
      ]
    },
    {
      "cell_type": "code",
      "execution_count": null,
      "metadata": {
        "id": "MZQjViJlxQmp"
      },
      "outputs": [],
      "source": [
        "y_hat = pipe_logit_ovr.predict(x_test)\n",
        "cm_display = ConfusionMatrixDisplay.from_predictions(y_test, y_hat,\n",
        "                                                     values_format='.5g')\n",
        "plt.show()"
      ]
    },
    {
      "cell_type": "code",
      "execution_count": null,
      "metadata": {
        "id": "JMgwufsGxmex"
      },
      "outputs": [],
      "source": [
        "print(classification_report(y_test, y_hat))"
      ]
    },
    {
      "cell_type": "markdown",
      "metadata": {
        "id": "fgFhYt_p3OdL"
      },
      "source": [
        "## Visualize the weight values"
      ]
    },
    {
      "cell_type": "code",
      "execution_count": null,
      "metadata": {
        "id": "hAgkUuXuzyuI"
      },
      "outputs": [],
      "source": [
        "W = pipe_logit_ovr[1].coef_\n",
        "# normalize\n",
        "W = MinMaxScaler().fit_transform(W)\n",
        "fig,ax = plt.subplots(3,3)\n",
        "index = 1\n",
        "for i in range(3):\n",
        "  for j in range(3):\n",
        "    ax[i][j].imshow(W[index,:].reshape(28,28),cmap='gray')\n",
        "    ax[i][j].set_title('W{0}'.format(index))\n",
        "    ax[i][j].set_axis_off()\n",
        "    index += 1"
      ]
    },
    {
      "cell_type": "markdown",
      "metadata": {
        "id": "D5XobxeYxrhZ"
      },
      "source": [
        "**Excersise:** Multiclass classification with RidgeClassifier."
      ]
    }
  ],
  "metadata": {
    "colab": {
      "collapsed_sections": [
        "cMIons1_TWup",
        "CV8McPC4lvQR",
        "B37KBZnQJy4p",
        "lD3kk7Pbj3Nb",
        "DUvolVyjAhHd"
      ],
      "provenance": []
    },
    "kernelspec": {
      "display_name": "Python 3",
      "name": "python3"
    },
    "language_info": {
      "name": "python"
    }
  },
  "nbformat": 4,
  "nbformat_minor": 0
}