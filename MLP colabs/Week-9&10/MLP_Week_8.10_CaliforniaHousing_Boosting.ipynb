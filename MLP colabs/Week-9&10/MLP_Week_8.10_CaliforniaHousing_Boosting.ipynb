{
  "nbformat": 4,
  "nbformat_minor": 0,
  "metadata": {
    "colab": {
      "provenance": []
    },
    "kernelspec": {
      "name": "python3",
      "display_name": "Python 3"
    },
    "language_info": {
      "name": "python"
    }
  },
  "cells": [
    {
      "cell_type": "markdown",
      "source": [
        "In this colab, we will apply ensemble technqiues regression problem in california housing dataset.  \n",
        "\n",
        "We have already applied different regressors on california housing dataset.  In this colab, we will make use of \n",
        "* AdaBoost regressor\n",
        "* Gradient boosting regressor\n",
        "* XGBoost regressor"
      ],
      "metadata": {
        "id": "xyRSi5AogA7j"
      }
    },
    {
      "cell_type": "code",
      "source": [
        "import pandas as pd\n",
        "import numpy as np\n",
        "\n",
        "from sklearn.datasets import fetch_california_housing\n",
        "from sklearn.ensemble import AdaBoostRegressor\n",
        "from sklearn.ensemble import GradientBoostingRegressor\n",
        "\n",
        "from sklearn.metrics import mean_absolute_error\n",
        "from sklearn.model_selection import cross_validate\n",
        "from sklearn.model_selection import train_test_split\n",
        "from sklearn.model_selection import RandomizedSearchCV\n",
        "from sklearn.model_selection import ShuffleSplit"
      ],
      "metadata": {
        "id": "9NvdUdHcg6Rd"
      },
      "execution_count": null,
      "outputs": []
    },
    {
      "cell_type": "code",
      "source": [
        "np.random.seed(306)"
      ],
      "metadata": {
        "id": "8LPn_46gkQzO"
      },
      "execution_count": null,
      "outputs": []
    },
    {
      "cell_type": "markdown",
      "metadata": {
        "id": "Vdy9vjAAcKqc"
      },
      "source": [
        "Let's use `ShuffleSplit` as cv with 10 splits and 20% examples set aside as test examples."
      ]
    },
    {
      "cell_type": "code",
      "execution_count": null,
      "metadata": {
        "id": "n4qBLpbmcOA7"
      },
      "outputs": [],
      "source": [
        "cv = ShuffleSplit(n_splits=10, test_size=0.2, random_state=42)"
      ]
    },
    {
      "cell_type": "markdown",
      "source": [
        "Let's download the data and split it into training and test sets."
      ],
      "metadata": {
        "id": "lxTJuQTOhOt-"
      }
    },
    {
      "cell_type": "code",
      "execution_count": null,
      "metadata": {
        "id": "oa1W7QWVd3eh"
      },
      "outputs": [],
      "source": [
        "# fetch dataset\n",
        "features, labels = fetch_california_housing(as_frame=True, return_X_y=True)\n",
        "labels *= 100\n",
        "\n",
        "# train-test split\n",
        "com_train_features, test_features, com_train_labels, test_labels = train_test_split(\n",
        "    features, labels, random_state=42)\n",
        "\n",
        "# train --> train + dev split\n",
        "train_features, dev_features, train_labels, dev_labels = train_test_split(\n",
        "    com_train_features, com_train_labels, random_state=42)"
      ]
    },
    {
      "cell_type": "markdown",
      "source": [
        "## Training different regressors\n",
        "\n",
        "Let's train different regressors:"
      ],
      "metadata": {
        "id": "QGfafdbfhTY9"
      }
    },
    {
      "cell_type": "code",
      "source": [
        "def train_regressor(estimator, X_train, y_train, cv, name):\n",
        "  cv_results = cross_validate(estimator,\n",
        "                              X_train, \n",
        "                              y_train, \n",
        "                              cv=cv,\n",
        "                              scoring=\"neg_mean_absolute_error\",\n",
        "                              return_train_score=True,\n",
        "                              return_estimator=True)\n",
        "\n",
        "  cv_train_error = -1* cv_results['train_score']\n",
        "  cv_test_error = -1 * cv_results['test_score']\n",
        "\n",
        "  print(f\"On an average, {name} makes an error of \"\n",
        "        f\"{cv_train_error.mean():.3f}k +/- {cv_train_error.std():.3f}k on the training set.\")\n",
        "  print(f\"On an average, {name} makes an error of \"\n",
        "        f\"{cv_test_error.mean():.3f}k +/- {cv_test_error.std():.3f}k on the test set.\")"
      ],
      "metadata": {
        "id": "3Wog_JjImxfS"
      },
      "execution_count": null,
      "outputs": []
    },
    {
      "cell_type": "code",
      "source": [
        "#@title AdaBoostRegressor\n",
        "train_regressor(\n",
        "    AdaBoostRegressor(), com_train_features,\n",
        "    com_train_labels, cv, 'AdaBoostRegressor')"
      ],
      "metadata": {
        "colab": {
          "base_uri": "https://localhost:8080/"
        },
        "id": "Q5OJQ_kFncA-",
        "outputId": "5c16bcfc-0603-4fb9-ff0d-bc9cdb2422d5"
      },
      "execution_count": null,
      "outputs": [
        {
          "output_type": "stream",
          "name": "stdout",
          "text": [
            "On an average, AdaBoostRegressor makes an error of 73.263k +/- 6.031k on the training set.\n",
            "On an average, AdaBoostRegressor makes an error of 73.623k +/- 6.057k on the test set.\n"
          ]
        }
      ]
    },
    {
      "cell_type": "code",
      "source": [
        "#@title GradientBoostingRegressor\n",
        "train_regressor(\n",
        "    GradientBoostingRegressor(), com_train_features, com_train_labels, cv,\n",
        "   'GradientBoostingRegressor')"
      ],
      "metadata": {
        "colab": {
          "base_uri": "https://localhost:8080/"
        },
        "id": "VUj9_vcRn_Pa",
        "outputId": "1ff26384-ff9a-450e-add2-fc8a51d794a2"
      },
      "execution_count": null,
      "outputs": [
        {
          "output_type": "stream",
          "name": "stdout",
          "text": [
            "On an average, GradientBoostingRegressor makes an error of 35.394k +/- 0.273k on the training set.\n",
            "On an average, GradientBoostingRegressor makes an error of 36.773k +/- 0.723k on the test set.\n"
          ]
        }
      ]
    },
    {
      "cell_type": "code",
      "source": [
        "?GradientBoostingRegressor\n"
      ],
      "metadata": {
        "id": "lgxA_NUY18la"
      },
      "execution_count": null,
      "outputs": []
    },
    {
      "cell_type": "markdown",
      "source": [
        "# XGBoost"
      ],
      "metadata": {
        "id": "lURFJNR-QT4q"
      }
    },
    {
      "cell_type": "code",
      "source": [
        "!pip install xgboost"
      ],
      "metadata": {
        "colab": {
          "base_uri": "https://localhost:8080/"
        },
        "id": "2Xj7cFa8QVpa",
        "outputId": "cc2c40e2-48f5-41ea-cd1a-b7dd8092c780"
      },
      "execution_count": null,
      "outputs": [
        {
          "output_type": "stream",
          "name": "stdout",
          "text": [
            "Requirement already satisfied: xgboost in /usr/local/lib/python3.7/dist-packages (0.90)\n",
            "Requirement already satisfied: numpy in /usr/local/lib/python3.7/dist-packages (from xgboost) (1.21.5)\n",
            "Requirement already satisfied: scipy in /usr/local/lib/python3.7/dist-packages (from xgboost) (1.4.1)\n"
          ]
        }
      ]
    },
    {
      "cell_type": "markdown",
      "source": [
        "Extreme gradient boosting (XGBoost) is the latest boosting technique.  It is more regularized form of gradient boosting.  With regularization, it is able to achieve better generalization performance than gradient boosting."
      ],
      "metadata": {
        "id": "mZRNqPQtSI6N"
      }
    },
    {
      "cell_type": "code",
      "source": [
        "from xgboost import XGBRegressor\n",
        "xgb_regressor = XGBRegressor(objective='reg:squarederror')"
      ],
      "metadata": {
        "id": "fFDVgss6QZ7q"
      },
      "execution_count": null,
      "outputs": []
    },
    {
      "cell_type": "code",
      "source": [
        "?XGBRegressor"
      ],
      "metadata": {
        "id": "y7RQ2ZX-Rkbi"
      },
      "execution_count": null,
      "outputs": []
    },
    {
      "cell_type": "code",
      "source": [
        "train_regressor(\n",
        "    xgb_regressor, com_train_features,\n",
        "    com_train_labels, cv, 'XGBoostRegressor')"
      ],
      "metadata": {
        "colab": {
          "base_uri": "https://localhost:8080/"
        },
        "id": "BycHrLUZQuYN",
        "outputId": "041926ce-1cdb-4954-946b-b6856c216dfe"
      },
      "execution_count": null,
      "outputs": [
        {
          "output_type": "stream",
          "name": "stdout",
          "text": [
            "On an average, XGBoostRegressor makes an error of 35.441k +/- 0.228k on the training set.\n",
            "On an average, XGBoostRegressor makes an error of 36.815k +/- 0.707k on the test set.\n"
          ]
        }
      ]
    },
    {
      "cell_type": "code",
      "source": [
        "xg_reg = XGBRegressor(objective ='reg:squarederror',\n",
        "                      colsample_bytree = 1, eta=0.3,\n",
        "                      learning_rate = 0.1, max_depth = 5, \n",
        "                      alpha = 10, n_estimators = 2000)"
      ],
      "metadata": {
        "id": "aptiGTBZTYU9"
      },
      "execution_count": null,
      "outputs": []
    },
    {
      "cell_type": "code",
      "source": [
        "train_regressor(\n",
        "    xg_reg, com_train_features,\n",
        "    com_train_labels, cv, 'XGBoostRegressor')"
      ],
      "metadata": {
        "colab": {
          "base_uri": "https://localhost:8080/"
        },
        "id": "HQDeUwZGTe3e",
        "outputId": "2cdc9b0c-d6fc-4299-b60e-018d48d3ea2c"
      },
      "execution_count": null,
      "outputs": [
        {
          "output_type": "stream",
          "name": "stdout",
          "text": [
            "On an average, XGBoostRegressor makes an error of 8.119k +/- 0.068k on the training set.\n",
            "On an average, XGBoostRegressor makes an error of 30.000k +/- 0.630k on the test set.\n"
          ]
        }
      ]
    },
    {
      "cell_type": "code",
      "source": [
        "xg_reg = XGBRegressor(objective ='reg:squarederror', max_depth = 5, \n",
        "                      alpha = 10, n_estimators = 2000)"
      ],
      "metadata": {
        "id": "RamSt9rNW7rx"
      },
      "execution_count": null,
      "outputs": []
    },
    {
      "cell_type": "code",
      "source": [
        "train_regressor(\n",
        "    xg_reg, com_train_features,\n",
        "    com_train_labels, cv, 'XGBoostRegressor')"
      ],
      "metadata": {
        "colab": {
          "base_uri": "https://localhost:8080/"
        },
        "id": "2Vo0Xd44XCmM",
        "outputId": "5248d3de-9b8e-4342-980c-112a983fa80a"
      },
      "execution_count": null,
      "outputs": [
        {
          "output_type": "stream",
          "name": "stdout",
          "text": [
            "On an average, XGBoostRegressor makes an error of 8.119k +/- 0.068k on the training set.\n",
            "On an average, XGBoostRegressor makes an error of 30.000k +/- 0.630k on the test set.\n"
          ]
        }
      ]
    }
  ]
}