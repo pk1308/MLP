{
  "cells": [
    {
      "cell_type": "markdown",
      "metadata": {
        "id": "qt5KjXgGqHd6"
      },
      "source": [
        "In this colab, we will implement **multiclass MNIST digit recognition classifier** with **boosting**: \n",
        "* AdaBoost\n",
        "* GradientBoosting\n",
        "* XGBoost"
      ]
    },
    {
      "cell_type": "markdown",
      "metadata": {
        "id": "tlM_Zzk8PnZ6"
      },
      "source": [
        "**Import basic libraries**"
      ]
    },
    {
      "cell_type": "code",
      "execution_count": null,
      "metadata": {
        "id": "hYMtC-VkLys3"
      },
      "outputs": [],
      "source": [
        "# plotting utility\n",
        "import matplotlib.pyplot as plt\n",
        "\n",
        "# dataset loading through mnist.\n",
        "from keras.datasets import mnist\n",
        "\n",
        "# training three classifiers: AdaBoostClassifier, \n",
        "# GradientBoostingClassifier and XGBoostClassifer.\n",
        "from sklearn.ensemble import AdaBoostClassifier\n",
        "from sklearn.ensemble import GradientBoostingClassifier\n",
        "\n",
        "# model selection utilities for training and test split and cross validation\n",
        "from sklearn.model_selection import train_test_split\n",
        "from sklearn.model_selection import cross_validate\n",
        "from sklearn.model_selection import cross_val_score\n",
        "\n",
        "# use shuffle-split cross validation for this exercise.\n",
        "from sklearn.model_selection import ShuffleSplit\n",
        "\n",
        "# make use of confusion matrix and classification report to evaluate performance\n",
        "# on the test set.\n",
        "from sklearn.metrics import confusion_matrix, ConfusionMatrixDisplay\n",
        "from sklearn.metrics import classification_report\n",
        "\n",
        "# the model is defined through pipeline utility.\n",
        "from sklearn.pipeline import Pipeline"
      ]
    },
    {
      "cell_type": "markdown",
      "metadata": {
        "id": "rFEHgb61sawh"
      },
      "source": [
        "## Loading MNIST dataset\n",
        "\n",
        "We begin by loading MNIST dataset with `load_data` function in `mnist` class.\n",
        "\n",
        "We obtain: \n",
        "* Training feature matrix and labels\n",
        "* Test feature matrix and labels"
      ]
    },
    {
      "cell_type": "code",
      "execution_count": null,
      "metadata": {
        "id": "jzlQkd_G5uq9",
        "colab": {
          "base_uri": "https://localhost:8080/"
        },
        "outputId": "ec1502df-c15b-4b50-f59b-21ca0a4b4ca2"
      },
      "outputs": [
        {
          "output_type": "stream",
          "name": "stdout",
          "text": [
            "Downloading data from https://storage.googleapis.com/tensorflow/tf-keras-datasets/mnist.npz\n",
            "11493376/11490434 [==============================] - 0s 0us/step\n",
            "11501568/11490434 [==============================] - 0s 0us/step\n"
          ]
        }
      ],
      "source": [
        "# Load dataset\n",
        "(X_train, y_train), (X_test, y_test) = mnist.load_data()"
      ]
    },
    {
      "cell_type": "markdown",
      "source": [
        "As you know there are 60000 examples in training set and 10000 examples in the test set.\n",
        "\n",
        "Each example is a grey scale image of size 28x28.  There are 10 different labels - one for each digit - 0 to 9."
      ],
      "metadata": {
        "id": "kwbJUE5dsvpn"
      }
    },
    {
      "cell_type": "code",
      "execution_count": null,
      "metadata": {
        "colab": {
          "base_uri": "https://localhost:8080/"
        },
        "id": "g0vZMs1a75Il",
        "outputId": "9b376b5b-814a-4e95-e9f6-0d6f5383d563"
      },
      "outputs": [
        {
          "output_type": "stream",
          "name": "stdout",
          "text": [
            "Shape of training data (60000, 28, 28)\n",
            "Shape of training labels (60000,)\n",
            "Shape of testing data (10000, 28, 28)\n",
            "Shape of testing labels (10000,)\n"
          ]
        }
      ],
      "source": [
        "print('Shape of training data',X_train.shape)\n",
        "print('Shape of training labels', y_train.shape)\n",
        "print('Shape of testing data', X_test.shape)\n",
        "print('Shape of testing labels',y_test.shape)"
      ]
    },
    {
      "cell_type": "markdown",
      "source": [
        "Before using the dataset for training and evaluation, we need to flatten it into a vector.  After flattening, we have training and test examples represented with a vector of 784 features. Each feature records pixel intensity in each of 28x28 pixel.\n",
        "\n",
        "We normalize the pixel intensity by dividing it with the maximum value i.e. 255.  In that sense we have each feature value in the range 0 to 1."
      ],
      "metadata": {
        "id": "visRJ0sYtBOf"
      }
    },
    {
      "cell_type": "code",
      "execution_count": null,
      "metadata": {
        "id": "cytEJobTqcB0"
      },
      "outputs": [],
      "source": [
        "# Flatten each input image into a vector of length 784 \n",
        "X_train = X_train.reshape(X_train.shape[0], 28*28)\n",
        "X_test = X_test.reshape(X_test.shape[0], 28*28)\n",
        "\n",
        "# Normalizing. \n",
        "X_train = X_train/255\n",
        "X_test = X_test/255"
      ]
    },
    {
      "cell_type": "code",
      "execution_count": null,
      "metadata": {
        "colab": {
          "base_uri": "https://localhost:8080/"
        },
        "id": "bWYx2MK6qnUD",
        "outputId": "9438b173-b480-4ca1-e7a2-d0e17061579f"
      },
      "outputs": [
        {
          "output_type": "stream",
          "name": "stdout",
          "text": [
            "Shape of training data after flattening (60000, 784)\n",
            "Shape of testing data after flattening (10000, 784)\n"
          ]
        }
      ],
      "source": [
        "print('Shape of training data after flattening',X_train.shape)\n",
        "print('Shape of testing data after flattening', X_test.shape)"
      ]
    },
    {
      "cell_type": "markdown",
      "source": [
        "We use `ShuffleSplit` cross validation with 10 splits and 20% data set aside for model evaluation as a test data."
      ],
      "metadata": {
        "id": "WTlz0MsNtiYp"
      }
    },
    {
      "cell_type": "code",
      "execution_count": null,
      "metadata": {
        "id": "SV5bhivirizA"
      },
      "outputs": [],
      "source": [
        "cv = ShuffleSplit(n_splits=10, test_size=0.2, random_state=42)"
      ]
    },
    {
      "cell_type": "markdown",
      "source": [
        "We define two functions:\n",
        "1. `train_classifiers` contains a common code for training classifiers for MNIST multiclass classification problem.\n",
        "  * It takes `estimator`, feature matrix, labels, cross validation strategy and name of the classifier as input.\n",
        "  * It first fits the estimator with feature matrix and labels. \n",
        "  * It obtains cross validated `f1_macro` score for training set with 10-fold `ShuffleSplit` cross validation and prints it."
      ],
      "metadata": {
        "id": "6SdGNN2NtsAA"
      }
    },
    {
      "cell_type": "code",
      "execution_count": null,
      "metadata": {
        "id": "Hp1vTp58rUoG"
      },
      "outputs": [],
      "source": [
        "def train_classifiers(estimator, X_train, y_train, cv, name):\n",
        "  estimator.fit(X_train, y_train)\n",
        "  cv_train_score = cross_val_score(estimator, X_train, y_train,\n",
        "                                   cv=cv, scoring='f1_macro')\n",
        "  print(f\"On an average, {name} model has f1 score of \"\n",
        "        f\"{cv_train_score.mean():.3f} +/- {cv_train_score.std():.3f} on the training set.\")"
      ]
    },
    {
      "cell_type": "markdown",
      "source": [
        "2. The `eval` function takes estimator, test feature matrix and labels as input and produce classification report and confusion matrix. \n",
        "  * It first predicts labels for the test set.\n",
        "  * Then it uses these predicted reports for calculating various evaluation metrics like precision, recall, f1 score and accuracy for each of the 10 classes.\n",
        "  * It also obtains a confusion matrix by comparing these predictions with the actual labels and displays it with `ConfusionMatrixDisplay` utility."
      ],
      "metadata": {
        "id": "bP8O1WX8uvXT"
      }
    },
    {
      "cell_type": "code",
      "execution_count": null,
      "metadata": {
        "id": "R4r1vC9OvJaO"
      },
      "outputs": [],
      "source": [
        "def eval(estimator, X_test, y_test):\n",
        "  y_pred = estimator.predict(X_test)\n",
        "\n",
        "  print(\"# Classification report\")\n",
        "  print(classification_report(y_test, y_pred))\n",
        "\n",
        "  print(\"# Confusion matrix\")\n",
        "  disp = ConfusionMatrixDisplay(\n",
        "      confusion_matrix=confusion_matrix(y_test, y_pred))\n",
        "  disp.plot()\n",
        "  plt.title('Confusion matrix')\n",
        "  plt.show()"
      ]
    },
    {
      "cell_type": "markdown",
      "source": [
        "Let's train two classifiers with default parameters.\n",
        "* **AdaBoostClassifier** that uses decision stumps as weak learners.\n",
        "* **GradientBoostingClassifer** that uses decision trees as weak learners."
      ],
      "metadata": {
        "id": "Zzs8wh0ovXuM"
      }
    },
    {
      "cell_type": "markdown",
      "metadata": {
        "id": "59qB0SYe7zZs"
      },
      "source": [
        "# **AdaBoost for MNIST multiclass classification**"
      ]
    },
    {
      "cell_type": "markdown",
      "source": [
        "We instantiate an adaboost classifier with default parameters and train it.  The `train_classifier` function prints mean of cross validated accuracy and standard deviation of the trained classifier on the training set."
      ],
      "metadata": {
        "id": "IAxSuPpjwNkD"
      }
    },
    {
      "cell_type": "code",
      "execution_count": null,
      "metadata": {
        "colab": {
          "base_uri": "https://localhost:8080/"
        },
        "id": "UggqLMictb8d",
        "outputId": "7bd860d8-8dfe-4c66-f093-5ad89200829b"
      },
      "outputs": [
        {
          "output_type": "stream",
          "name": "stdout",
          "text": [
            "On an average, AdaBoostClassifier model has f1 score of 0.712 +/- 0.016 on the training set.\n"
          ]
        }
      ],
      "source": [
        "abc_pipeline = Pipeline([(\"classifier\", AdaBoostClassifier())])\n",
        "train_classifiers(abc_pipeline, X_train, y_train.ravel(), cv,\n",
        "                  \"AdaBoostClassifier\")"
      ]
    },
    {
      "cell_type": "markdown",
      "source": [
        "Let's evaluate the trained classifier on the test set."
      ],
      "metadata": {
        "id": "hSv0f8UnwYyC"
      }
    },
    {
      "cell_type": "code",
      "execution_count": null,
      "metadata": {
        "colab": {
          "base_uri": "https://localhost:8080/",
          "height": 634
        },
        "id": "eDq0oY5vvb_T",
        "outputId": "41150e98-fbb2-4966-dbaa-d7c3c7da4feb"
      },
      "outputs": [
        {
          "output_type": "stream",
          "name": "stdout",
          "text": [
            "# Classification report\n",
            "              precision    recall  f1-score   support\n",
            "\n",
            "           0       0.84      0.90      0.87       980\n",
            "           1       0.85      0.94      0.90      1135\n",
            "           2       0.79      0.58      0.67      1032\n",
            "           3       0.68      0.67      0.68      1010\n",
            "           4       0.72      0.72      0.72       982\n",
            "           5       0.69      0.59      0.64       892\n",
            "           6       0.72      0.86      0.78       958\n",
            "           7       0.68      0.78      0.73      1028\n",
            "           8       0.66      0.68      0.67       974\n",
            "           9       0.62      0.55      0.58      1009\n",
            "\n",
            "    accuracy                           0.73     10000\n",
            "   macro avg       0.73      0.73      0.72     10000\n",
            "weighted avg       0.73      0.73      0.73     10000\n",
            "\n",
            "# Confusion matrix\n"
          ]
        },
        {
          "output_type": "display_data",
          "data": {
            "image/png": "[encoded data removed]",
            "text/plain": [
              "<Figure size 432x288 with 2 Axes>"
            ]
          },
          "metadata": {
            "needs_background": "light"
          }
        }
      ],
      "source": [
        "eval(abc_pipeline, X_test, y_test)"
      ]
    },
    {
      "cell_type": "markdown",
      "metadata": {
        "id": "o1K9PTSgntSc"
      },
      "source": [
        "# **MNIST classification with GradientBoostingClassifer**"
      ]
    },
    {
      "cell_type": "markdown",
      "source": [
        "Let's instantiate a gradient boosting classifier object and train it.  \n",
        "\n",
        "Observe the mean `f1_score` and its standard deviation obtained by the classifier based 10-fold cross validation of the training set."
      ],
      "metadata": {
        "id": "Ln8HC2K-w7V2"
      }
    },
    {
      "cell_type": "code",
      "execution_count": null,
      "metadata": {
        "id": "2V8ciigb5UCL"
      },
      "outputs": [],
      "source": [
        "# gbc_pipeline = Pipeline([(\"classifier\", GradientBoostingClassifier(n_estimators=10))])\n",
        "# train_classifiers(gbc_pipeline, X_train, y_train.ravel(), cv,\n",
        "#                   \"GradientBoostingClassifier\")"
      ]
    },
    {
      "cell_type": "markdown",
      "source": [
        "Let's evaluate the trained classifier on the test set."
      ],
      "metadata": {
        "id": "GG8FIhdFxjDX"
      }
    },
    {
      "cell_type": "code",
      "execution_count": null,
      "metadata": {
        "id": "E7f5Uux_5bb1"
      },
      "outputs": [],
      "source": [
        "# eval(gbc_pipeline, X_test, y_test)"
      ]
    },
    {
      "cell_type": "markdown",
      "source": [
        "## MNIST classification with XGBoost classifier"
      ],
      "metadata": {
        "id": "Ppp8HiRDRDPO"
      }
    },
    {
      "cell_type": "code",
      "source": [
        "from xgboost import XGBClassifier"
      ],
      "metadata": {
        "id": "7b1B4IzORYQ4"
      },
      "execution_count": null,
      "outputs": []
    },
    {
      "cell_type": "code",
      "source": [
        "?XGBClassifier"
      ],
      "metadata": {
        "id": "yevCxdu4RdbH"
      },
      "execution_count": null,
      "outputs": []
    },
    {
      "cell_type": "code",
      "source": [
        "xbc_pipeline = Pipeline([(\"classifier\", XGBClassifier())])\n",
        "train_classifiers(xbc_pipeline, X_train, y_train.ravel(), cv,\n",
        "                  \"XGBClassifier\")"
      ],
      "metadata": {
        "id": "nZvl7XSfRJkc"
      },
      "execution_count": null,
      "outputs": []
    },
    {
      "cell_type": "code",
      "source": [
        "eval(xbc_pipeline, X_test, y_test)"
      ],
      "metadata": {
        "id": "7O5N-yGfRTEw"
      },
      "execution_count": null,
      "outputs": []
    }
  ],
  "metadata": {
    "colab": {
      "provenance": []
    },
    "kernelspec": {
      "display_name": "Python 3",
      "name": "python3"
    },
    "language_info": {
      "name": "python"
    }
  },
  "nbformat": 4,
  "nbformat_minor": 0
}