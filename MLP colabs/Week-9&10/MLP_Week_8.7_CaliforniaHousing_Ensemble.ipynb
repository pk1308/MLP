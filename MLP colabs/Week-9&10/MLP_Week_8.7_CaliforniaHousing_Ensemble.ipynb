{
  "nbformat": 4,
  "nbformat_minor": 0,
  "metadata": {
    "colab": {
      "provenance": []
    },
    "kernelspec": {
      "name": "python3",
      "display_name": "Python 3"
    },
    "language_info": {
      "name": "python"
    }
  },
  "cells": [
    {
      "cell_type": "markdown",
      "source": [
        "In this colab, we will apply ensemble technqiues regression problem in california housing dataset.  \n",
        "\n",
        "We have already applied different regressors on california housing dataset.  In this colab, we will make use of \n",
        "* Decision tree regressor\n",
        "* Bagging regressor\n",
        "* Random Forest regressor\n",
        "\n",
        "We will observe performance improvement when we use random forest over decision trees and bagging, which also uses decision tree regressors."
      ],
      "metadata": {
        "id": "xyRSi5AogA7j"
      }
    },
    {
      "cell_type": "code",
      "source": [
        "import pandas as pd\n",
        "import numpy as np\n",
        "\n",
        "from sklearn.datasets import fetch_california_housing\n",
        "from sklearn.ensemble import BaggingRegressor\n",
        "from sklearn.ensemble import RandomForestRegressor\n",
        "\n",
        "from sklearn.metrics import mean_absolute_error\n",
        "from sklearn.model_selection import cross_validate\n",
        "from sklearn.model_selection import train_test_split\n",
        "from sklearn.model_selection import RandomizedSearchCV\n",
        "from sklearn.model_selection import ShuffleSplit\n",
        "\n",
        "from sklearn.tree import DecisionTreeRegressor"
      ],
      "metadata": {
        "id": "9NvdUdHcg6Rd"
      },
      "execution_count": null,
      "outputs": []
    },
    {
      "cell_type": "code",
      "source": [
        "np.random.seed(306)"
      ],
      "metadata": {
        "id": "8LPn_46gkQzO"
      },
      "execution_count": null,
      "outputs": []
    },
    {
      "cell_type": "markdown",
      "metadata": {
        "id": "Vdy9vjAAcKqc"
      },
      "source": [
        "Let's use `ShuffleSplit` as cv with 10 splits and 20% examples set aside as test examples."
      ]
    },
    {
      "cell_type": "code",
      "execution_count": null,
      "metadata": {
        "id": "n4qBLpbmcOA7"
      },
      "outputs": [],
      "source": [
        "cv = ShuffleSplit(n_splits=10, test_size=0.2, random_state=42)"
      ]
    },
    {
      "cell_type": "markdown",
      "source": [
        "Let's download the data and split it into training and test sets."
      ],
      "metadata": {
        "id": "lxTJuQTOhOt-"
      }
    },
    {
      "cell_type": "code",
      "execution_count": null,
      "metadata": {
        "id": "oa1W7QWVd3eh"
      },
      "outputs": [],
      "source": [
        "# fetch dataset\n",
        "features, labels = fetch_california_housing(as_frame=True, return_X_y=True)\n",
        "labels *= 100\n",
        "\n",
        "# train-test split\n",
        "com_train_features, test_features, com_train_labels, test_labels = train_test_split(\n",
        "    features, labels, random_state=42)\n",
        "\n",
        "# train --> train + dev split\n",
        "train_features, dev_features, train_labels, dev_labels = train_test_split(\n",
        "    com_train_features, com_train_labels, random_state=42)"
      ]
    },
    {
      "cell_type": "markdown",
      "source": [
        "## Training different regressors\n",
        "\n",
        "Let's train different regressors:"
      ],
      "metadata": {
        "id": "QGfafdbfhTY9"
      }
    },
    {
      "cell_type": "code",
      "source": [
        "def train_regressor(estimator, X_train, y_train, cv, name):\n",
        "  cv_results = cross_validate(estimator,\n",
        "                              X_train, \n",
        "                              y_train, \n",
        "                              cv=cv,\n",
        "                              scoring=\"neg_mean_absolute_error\",\n",
        "                              return_train_score=True,\n",
        "                              return_estimator=True)\n",
        "\n",
        "  cv_train_error = -1* cv_results['train_score']\n",
        "  cv_test_error = -1 * cv_results['test_score']\n",
        "\n",
        "  print(f\"On an average, {name} makes an error of \"\n",
        "        f\"{cv_train_error.mean():.3f}k +/- {cv_train_error.std():.3f}k on the training set.\")\n",
        "  print(f\"On an average, {name} makes an error of \"\n",
        "        f\"{cv_test_error.mean():.3f}k +/- {cv_test_error.std():.3f}k on the test set.\")"
      ],
      "metadata": {
        "id": "3Wog_JjImxfS"
      },
      "execution_count": null,
      "outputs": []
    },
    {
      "cell_type": "code",
      "source": [
        "#@title Decission Tree Regressor\n",
        "train_regressor(\n",
        "    DecisionTreeRegressor(), com_train_features,\n",
        "    com_train_labels, cv, 'decision tree regressor')"
      ],
      "metadata": {
        "colab": {
          "base_uri": "https://localhost:8080/"
        },
        "id": "Q5OJQ_kFncA-",
        "outputId": "13fc1044-a89b-4714-d7f8-782e69f96db2"
      },
      "execution_count": null,
      "outputs": [
        {
          "output_type": "stream",
          "name": "stdout",
          "text": [
            "On an average, decision tree regressor makes an error of 0.000k +/- 0.000k on the training set.\n",
            "On an average, decision tree regressor makes an error of 47.184k +/- 1.336k on the test set.\n"
          ]
        }
      ]
    },
    {
      "cell_type": "code",
      "source": [
        "#@title Bagging Regressor\n",
        "train_regressor(\n",
        "    BaggingRegressor(), com_train_features, com_train_labels, cv,\n",
        "   'bagging regressor')"
      ],
      "metadata": {
        "colab": {
          "base_uri": "https://localhost:8080/"
        },
        "id": "VUj9_vcRn_Pa",
        "outputId": "c925f4b7-f584-4820-ca4c-f4fba58cb9d8"
      },
      "execution_count": null,
      "outputs": [
        {
          "output_type": "stream",
          "name": "stdout",
          "text": [
            "On an average, bagging regressor model makes an error of 14.418 +/- 0.161 on the training set.\n",
            "On an average, bagging regressor model makes an error of 35.355 +/- 0.807 on the test set.\n"
          ]
        }
      ]
    },
    {
      "cell_type": "markdown",
      "source": [
        "### RandomForest regressor"
      ],
      "metadata": {
        "id": "yI9j7OeDoOva"
      }
    },
    {
      "cell_type": "code",
      "source": [
        "#@title Random Forest Regressor\n",
        "train_regressor(\n",
        "    RandomForestRegressor(), com_train_features, com_train_labels, cv,\n",
        "    'random forest regressor')"
      ],
      "metadata": {
        "colab": {
          "base_uri": "https://localhost:8080/"
        },
        "id": "DUkCQMtdoHfQ",
        "outputId": "0a2d560a-b197-4f37-ffee-2be0a706d9b3"
      },
      "execution_count": null,
      "outputs": [
        {
          "output_type": "stream",
          "name": "stdout",
          "text": [
            "On an average, random forest regressor model makes an error of 12.609 +/- 0.075 on the training set.\n",
            "On an average, random forest regressor model makes an error of 33.171 +/- 0.656 on the test set.\n"
          ]
        }
      ]
    },
    {
      "cell_type": "markdown",
      "source": [
        "## Parameter search for random forest regressor"
      ],
      "metadata": {
        "id": "X6fSRds-mnqw"
      }
    },
    {
      "cell_type": "code",
      "source": [
        "param_distributions = {\n",
        "    \"n_estimators\": [1, 2, 5, 10, 20, 50, 100, 200, 500],\n",
        "    \"max_leaf_nodes\": [2, 5, 10, 20, 50, 100],\n",
        "}\n",
        "search_cv = RandomizedSearchCV(\n",
        "    RandomForestRegressor(n_jobs=2), param_distributions=param_distributions,\n",
        "    scoring=\"neg_mean_absolute_error\", n_iter=10, random_state=0, n_jobs=2,\n",
        ")\n",
        "search_cv.fit(com_train_features, com_train_labels)\n",
        "\n",
        "columns = [f\"param_{name}\" for name in param_distributions.keys()]\n",
        "columns += [\"mean_test_error\", \"std_test_error\"]\n",
        "cv_results = pd.DataFrame(search_cv.cv_results_)\n",
        "cv_results[\"mean_test_error\"] = -cv_results[\"mean_test_score\"]\n",
        "cv_results[\"std_test_error\"] = cv_results[\"std_test_score\"]\n",
        "cv_results[columns].sort_values(by=\"mean_test_error\")"
      ],
      "metadata": {
        "colab": {
          "base_uri": "https://localhost:8080/",
          "height": 363
        },
        "id": "prkeOtWFfXPO",
        "outputId": "cf81e8d0-59ae-42e8-fe95-83b079c91868"
      },
      "execution_count": null,
      "outputs": [
        {
          "output_type": "execute_result",
          "data": {
            "text/html": [
              "\n",
              "  <div id=\"df-42b1d49d-2ee0-404b-ab6d-b7f3491575ab\">\n",
              "    <div class=\"colab-df-container\">\n",
              "      <div>\n",
              "<style scoped>\n",
              "    .dataframe tbody tr th:only-of-type {\n",
              "        vertical-align: middle;\n",
              "    }\n",
              "\n",
              "    .dataframe tbody tr th {\n",
              "        vertical-align: top;\n",
              "    }\n",
              "\n",
              "    .dataframe thead th {\n",
              "        text-align: right;\n",
              "    }\n",
              "</style>\n",
              "<table border=\"1\" class=\"dataframe\">\n",
              "  <thead>\n",
              "    <tr style=\"text-align: right;\">\n",
              "      <th></th>\n",
              "      <th>param_n_estimators</th>\n",
              "      <th>param_max_leaf_nodes</th>\n",
              "      <th>mean_test_error</th>\n",
              "      <th>std_test_error</th>\n",
              "    </tr>\n",
              "  </thead>\n",
              "  <tbody>\n",
              "    <tr>\n",
              "      <th>0</th>\n",
              "      <td>500</td>\n",
              "      <td>100</td>\n",
              "      <td>40.610569</td>\n",
              "      <td>0.801707</td>\n",
              "    </tr>\n",
              "    <tr>\n",
              "      <th>2</th>\n",
              "      <td>10</td>\n",
              "      <td>100</td>\n",
              "      <td>40.910393</td>\n",
              "      <td>0.897410</td>\n",
              "    </tr>\n",
              "    <tr>\n",
              "      <th>7</th>\n",
              "      <td>100</td>\n",
              "      <td>50</td>\n",
              "      <td>43.759100</td>\n",
              "      <td>0.768686</td>\n",
              "    </tr>\n",
              "    <tr>\n",
              "      <th>8</th>\n",
              "      <td>1</td>\n",
              "      <td>100</td>\n",
              "      <td>46.201354</td>\n",
              "      <td>0.815425</td>\n",
              "    </tr>\n",
              "    <tr>\n",
              "      <th>1</th>\n",
              "      <td>100</td>\n",
              "      <td>20</td>\n",
              "      <td>49.548678</td>\n",
              "      <td>0.987527</td>\n",
              "    </tr>\n",
              "    <tr>\n",
              "      <th>6</th>\n",
              "      <td>50</td>\n",
              "      <td>20</td>\n",
              "      <td>49.550833</td>\n",
              "      <td>0.966021</td>\n",
              "    </tr>\n",
              "    <tr>\n",
              "      <th>9</th>\n",
              "      <td>10</td>\n",
              "      <td>20</td>\n",
              "      <td>50.063401</td>\n",
              "      <td>1.050467</td>\n",
              "    </tr>\n",
              "    <tr>\n",
              "      <th>3</th>\n",
              "      <td>500</td>\n",
              "      <td>10</td>\n",
              "      <td>55.043970</td>\n",
              "      <td>1.056692</td>\n",
              "    </tr>\n",
              "    <tr>\n",
              "      <th>4</th>\n",
              "      <td>5</td>\n",
              "      <td>5</td>\n",
              "      <td>61.505641</td>\n",
              "      <td>1.190761</td>\n",
              "    </tr>\n",
              "    <tr>\n",
              "      <th>5</th>\n",
              "      <td>5</td>\n",
              "      <td>2</td>\n",
              "      <td>72.976066</td>\n",
              "      <td>0.981523</td>\n",
              "    </tr>\n",
              "  </tbody>\n",
              "</table>\n",
              "</div>\n",
              "      <button class=\"colab-df-convert\" onclick=\"convertToInteractive('df-42b1d49d-2ee0-404b-ab6d-b7f3491575ab')\"\n",
              "              title=\"Convert this dataframe to an interactive table.\"\n",
              "              style=\"display:none;\">\n",
              "        \n",
              "  <svg xmlns=\"http://www.w3.org/2000/svg\" height=\"24px\"viewBox=\"0 0 24 24\"\n",
              "       width=\"24px\">\n",
              "    <path d=\"M0 0h24v24H0V0z\" fill=\"none\"/>\n",
              "    <path d=\"M18.56 5.44l.94 2.06.94-2.06 2.06-.94-2.06-.94-.94-2.06-.94 2.06-2.06.94zm-11 1L8.5 8.5l.94-2.06 2.06-.94-2.06-.94L8.5 2.5l-.94 2.06-2.06.94zm10 10l.94 2.06.94-2.06 2.06-.94-2.06-.94-.94-2.06-.94 2.06-2.06.94z\"/><path d=\"M17.41 7.96l-1.37-1.37c-.4-.4-.92-.59-1.43-.59-.52 0-1.04.2-1.43.59L10.3 9.45l-7.72 7.72c-.78.78-.78 2.05 0 2.83L4 21.41c.39.39.9.59 1.41.59.51 0 1.02-.2 1.41-.59l7.78-7.78 2.81-2.81c.8-.78.8-2.07 0-2.86zM5.41 20L4 18.59l7.72-7.72 1.47 1.35L5.41 20z\"/>\n",
              "  </svg>\n",
              "      </button>\n",
              "      \n",
              "  <style>\n",
              "    .colab-df-container {\n",
              "      display:flex;\n",
              "      flex-wrap:wrap;\n",
              "      gap: 12px;\n",
              "    }\n",
              "\n",
              "    .colab-df-convert {\n",
              "      background-color: #E8F0FE;\n",
              "      border: none;\n",
              "      border-radius: 50%;\n",
              "      cursor: pointer;\n",
              "      display: none;\n",
              "      fill: #1967D2;\n",
              "      height: 32px;\n",
              "      padding: 0 0 0 0;\n",
              "      width: 32px;\n",
              "    }\n",
              "\n",
              "    .colab-df-convert:hover {\n",
              "      background-color: #E2EBFA;\n",
              "      box-shadow: 0px 1px 2px rgba(60, 64, 67, 0.3), 0px 1px 3px 1px rgba(60, 64, 67, 0.15);\n",
              "      fill: #174EA6;\n",
              "    }\n",
              "\n",
              "    [theme=dark] .colab-df-convert {\n",
              "      background-color: #3B4455;\n",
              "      fill: #D2E3FC;\n",
              "    }\n",
              "\n",
              "    [theme=dark] .colab-df-convert:hover {\n",
              "      background-color: #434B5C;\n",
              "      box-shadow: 0px 1px 3px 1px rgba(0, 0, 0, 0.15);\n",
              "      filter: drop-shadow(0px 1px 2px rgba(0, 0, 0, 0.3));\n",
              "      fill: #FFFFFF;\n",
              "    }\n",
              "  </style>\n",
              "\n",
              "      <script>\n",
              "        const buttonEl =\n",
              "          document.querySelector('#df-42b1d49d-2ee0-404b-ab6d-b7f3491575ab button.colab-df-convert');\n",
              "        buttonEl.style.display =\n",
              "          google.colab.kernel.accessAllowed ? 'block' : 'none';\n",
              "\n",
              "        async function convertToInteractive(key) {\n",
              "          const element = document.querySelector('#df-42b1d49d-2ee0-404b-ab6d-b7f3491575ab');\n",
              "          const dataTable =\n",
              "            await google.colab.kernel.invokeFunction('convertToInteractive',\n",
              "                                                     [key], {});\n",
              "          if (!dataTable) return;\n",
              "\n",
              "          const docLinkHtml = 'Like what you see? Visit the ' +\n",
              "            '<a target=\"_blank\" href=https://colab.research.google.com/notebooks/data_table.ipynb>data table notebook</a>'\n",
              "            + ' to learn more about interactive tables.';\n",
              "          element.innerHTML = '';\n",
              "          dataTable['output_type'] = 'display_data';\n",
              "          await google.colab.output.renderOutput(dataTable, element);\n",
              "          const docLink = document.createElement('div');\n",
              "          docLink.innerHTML = docLinkHtml;\n",
              "          element.appendChild(docLink);\n",
              "        }\n",
              "      </script>\n",
              "    </div>\n",
              "  </div>\n",
              "  "
            ],
            "text/plain": [
              "  param_n_estimators param_max_leaf_nodes  mean_test_error  std_test_error\n",
              "0                500                  100        40.610569        0.801707\n",
              "2                 10                  100        40.910393        0.897410\n",
              "7                100                   50        43.759100        0.768686\n",
              "8                  1                  100        46.201354        0.815425\n",
              "1                100                   20        49.548678        0.987527\n",
              "6                 50                   20        49.550833        0.966021\n",
              "9                 10                   20        50.063401        1.050467\n",
              "3                500                   10        55.043970        1.056692\n",
              "4                  5                    5        61.505641        1.190761\n",
              "5                  5                    2        72.976066        0.981523"
            ]
          },
          "metadata": {},
          "execution_count": 42
        }
      ]
    },
    {
      "cell_type": "code",
      "source": [
        "error = -search_cv.score(test_features, test_labels)\n",
        "print(f\"On average, our random forest regressor makes an error of {error:.2f} k$\")"
      ],
      "metadata": {
        "colab": {
          "base_uri": "https://localhost:8080/"
        },
        "id": "7IPpfWVVfXuN",
        "outputId": "1a259b17-d19e-49c8-ef3e-0a6b4784e687"
      },
      "execution_count": null,
      "outputs": [
        {
          "output_type": "stream",
          "name": "stdout",
          "text": [
            "On average, our random forest regressor makes an error of 40.30 k$\n"
          ]
        }
      ]
    }
  ]
}